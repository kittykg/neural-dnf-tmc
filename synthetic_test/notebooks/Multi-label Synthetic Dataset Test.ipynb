{
 "cells": [
  {
   "cell_type": "code",
   "execution_count": 1,
   "metadata": {},
   "outputs": [],
   "source": [
    "import re\n",
    "import sys\n",
    "\n",
    "sys.path.append('..')\n",
    "sys.path.append('../..')"
   ]
  },
  {
   "cell_type": "code",
   "execution_count": 2,
   "metadata": {},
   "outputs": [],
   "source": [
    "import clingo\n",
    "import numpy as np\n",
    "from sklearn.model_selection import train_test_split\n",
    "from sklearn.metrics import (\n",
    "    multilabel_confusion_matrix,\n",
    "    precision_recall_fscore_support,\n",
    "    f1_score,\n",
    ")\n",
    " \n",
    "import torch\n",
    "from torch.utils.data import DataLoader"
   ]
  },
  {
   "cell_type": "code",
   "execution_count": 3,
   "metadata": {},
   "outputs": [],
   "source": [
    "from dnf_layer import SemiSymbolicLayerType\n",
    "from rule_learner import DNFClassifier\n",
    "from test_common import SyntheticDataset\n",
    "from utils import DeltaDelayedExponentialDecayScheduler\n",
    "from dnf_post_train import (\n",
    "    remove_unused_conjunctions,\n",
    "    remove_disjunctions_when_empty_conjunctions,\n",
    "    apply_threshold,\n",
    "    extract_asp_rules,\n",
    ")"
   ]
  },
  {
   "cell_type": "code",
   "execution_count": 4,
   "metadata": {},
   "outputs": [],
   "source": [
    "# Generate dataset with `multi_label_syn_data_gen.py` first\n",
    "SYNTH_DATA_PATH = 'synth_multi_label_data_in15_conj5.npz'\n",
    "\n",
    "RNG_SEED = 73\n",
    "BATCH_SIZE = 64\n",
    "NUM_EPOCHS = 100\n",
    "\n",
    "NUM_IN = 15\n",
    "NUM_CONJ = 5\n",
    "NUM_LABELS = 3"
   ]
  },
  {
   "cell_type": "code",
   "execution_count": 5,
   "metadata": {},
   "outputs": [],
   "source": [
    "torch.manual_seed(RNG_SEED)\n",
    "np.random.seed(RNG_SEED)"
   ]
  },
  {
   "cell_type": "code",
   "execution_count": 6,
   "metadata": {},
   "outputs": [],
   "source": [
    "dnpz = np.load(SYNTH_DATA_PATH)\n",
    "full_nullary = dnpz['nullary']\n",
    "full_target = dnpz['target']"
   ]
  },
  {
   "cell_type": "code",
   "execution_count": 7,
   "metadata": {},
   "outputs": [],
   "source": [
    "nullary_full_train, nullary_test, target_full_train, target_test = train_test_split(\n",
    "    full_nullary, full_target, random_state=RNG_SEED)\n",
    "nullary_train, nullary_val, target_train, target_val = train_test_split(\n",
    "    nullary_full_train, target_full_train, test_size=0.2, random_state=RNG_SEED\n",
    ")\n",
    "\n",
    "train_loader = DataLoader(SyntheticDataset(nullary_train, target_train), BATCH_SIZE)\n",
    "val_dataset = SyntheticDataset(nullary_val, target_val)\n",
    "val_loader = DataLoader(val_dataset, len(val_dataset))\n",
    "test_dataset = SyntheticDataset(nullary_test, target_test)\n",
    "test_loader = DataLoader(test_dataset, len(test_dataset)) # Load everything in 1 test loader"
   ]
  },
  {
   "cell_type": "code",
   "execution_count": 8,
   "metadata": {},
   "outputs": [],
   "source": [
    "model = DNFClassifier(NUM_IN, NUM_CONJ, NUM_LABELS, 0.1)\n",
    "delta_decay_scheduler = DeltaDelayedExponentialDecayScheduler(\n",
    "    initial_delta=0.1,\n",
    "    delta_decay_delay=10,\n",
    "    delta_decay_steps=1,\n",
    "    delta_decay_rate=1.1,\n",
    ")\n",
    "optimiser = torch.optim.Adam(model.parameters(), 0.001)\n",
    "criterion = torch.nn.BCELoss()"
   ]
  },
  {
   "cell_type": "markdown",
   "metadata": {},
   "source": [
    "# Training"
   ]
  },
  {
   "cell_type": "code",
   "execution_count": 9,
   "metadata": {},
   "outputs": [
    {
     "name": "stdout",
     "output_type": "stream",
     "text": [
      "[  1] Delta: 0.100  Train avg loss: 0.608  Val macro f1: 0.907\n",
      "[  2] Delta: 0.100  Train avg loss: 0.435  Val macro f1: 0.908\n",
      "[  3] Delta: 0.100  Train avg loss: 0.353  Val macro f1: 0.920\n",
      "[  4] Delta: 0.100  Train avg loss: 0.301  Val macro f1: 0.937\n",
      "[  5] Delta: 0.100  Train avg loss: 0.262  Val macro f1: 0.953\n",
      "[  6] Delta: 0.100  Train avg loss: 0.233  Val macro f1: 0.964\n",
      "[  7] Delta: 0.100  Train avg loss: 0.210  Val macro f1: 0.968\n",
      "[  8] Delta: 0.100  Train avg loss: 0.192  Val macro f1: 0.971\n",
      "[  9] Delta: 0.100  Train avg loss: 0.178  Val macro f1: 0.973\n",
      "[ 10] Delta: 0.100  Train avg loss: 0.166  Val macro f1: 0.975\n",
      "[ 11] Delta: 0.100  Train avg loss: 0.156  Val macro f1: 0.976\n",
      "[ 12] Delta: 0.110  Train avg loss: 0.147  Val macro f1: 0.976\n",
      "[ 13] Delta: 0.121  Train avg loss: 0.140  Val macro f1: 0.977\n",
      "[ 14] Delta: 0.133  Train avg loss: 0.135  Val macro f1: 0.976\n",
      "[ 15] Delta: 0.146  Train avg loss: 0.130  Val macro f1: 0.976\n",
      "[ 16] Delta: 0.161  Train avg loss: 0.126  Val macro f1: 0.977\n",
      "[ 17] Delta: 0.177  Train avg loss: 0.122  Val macro f1: 0.977\n",
      "[ 18] Delta: 0.195  Train avg loss: 0.119  Val macro f1: 0.978\n",
      "[ 19] Delta: 0.214  Train avg loss: 0.116  Val macro f1: 0.978\n",
      "[ 20] Delta: 0.236  Train avg loss: 0.114  Val macro f1: 0.979\n",
      "[ 21] Delta: 0.259  Train avg loss: 0.111  Val macro f1: 0.980\n",
      "[ 22] Delta: 0.285  Train avg loss: 0.109  Val macro f1: 0.980\n",
      "[ 23] Delta: 0.314  Train avg loss: 0.107  Val macro f1: 0.981\n",
      "[ 24] Delta: 0.345  Train avg loss: 0.106  Val macro f1: 0.981\n",
      "[ 25] Delta: 0.380  Train avg loss: 0.105  Val macro f1: 0.980\n",
      "[ 26] Delta: 0.418  Train avg loss: 0.105  Val macro f1: 0.979\n",
      "[ 27] Delta: 0.459  Train avg loss: 0.105  Val macro f1: 0.979\n",
      "[ 28] Delta: 0.505  Train avg loss: 0.104  Val macro f1: 0.979\n",
      "[ 29] Delta: 0.556  Train avg loss: 0.105  Val macro f1: 0.978\n",
      "[ 30] Delta: 0.612  Train avg loss: 0.105  Val macro f1: 0.978\n",
      "[ 31] Delta: 0.673  Train avg loss: 0.105  Val macro f1: 0.976\n",
      "[ 32] Delta: 0.740  Train avg loss: 0.106  Val macro f1: 0.974\n",
      "[ 33] Delta: 0.814  Train avg loss: 0.107  Val macro f1: 0.974\n",
      "[ 34] Delta: 0.895  Train avg loss: 0.108  Val macro f1: 0.973\n",
      "[ 35] Delta: 0.985  Train avg loss: 0.102  Val macro f1: 0.974\n",
      "[ 36] Delta: 1.000  Train avg loss: 0.095  Val macro f1: 0.976\n",
      "[ 37] Delta: 1.000  Train avg loss: 0.088  Val macro f1: 0.977\n",
      "[ 38] Delta: 1.000  Train avg loss: 0.084  Val macro f1: 0.980\n",
      "[ 39] Delta: 1.000  Train avg loss: 0.081  Val macro f1: 0.981\n",
      "[ 40] Delta: 1.000  Train avg loss: 0.078  Val macro f1: 0.981\n",
      "[ 41] Delta: 1.000  Train avg loss: 0.076  Val macro f1: 0.982\n",
      "[ 42] Delta: 1.000  Train avg loss: 0.073  Val macro f1: 0.982\n",
      "[ 43] Delta: 1.000  Train avg loss: 0.071  Val macro f1: 0.984\n",
      "[ 44] Delta: 1.000  Train avg loss: 0.069  Val macro f1: 0.985\n",
      "[ 45] Delta: 1.000  Train avg loss: 0.068  Val macro f1: 0.986\n",
      "[ 46] Delta: 1.000  Train avg loss: 0.066  Val macro f1: 0.987\n",
      "[ 47] Delta: 1.000  Train avg loss: 0.064  Val macro f1: 0.987\n",
      "[ 48] Delta: 1.000  Train avg loss: 0.062  Val macro f1: 0.987\n",
      "[ 49] Delta: 1.000  Train avg loss: 0.060  Val macro f1: 0.987\n",
      "[ 50] Delta: 1.000  Train avg loss: 0.058  Val macro f1: 0.987\n",
      "[ 51] Delta: 1.000  Train avg loss: 0.054  Val macro f1: 0.988\n",
      "[ 52] Delta: 1.000  Train avg loss: 0.049  Val macro f1: 0.990\n",
      "[ 53] Delta: 1.000  Train avg loss: 0.042  Val macro f1: 0.993\n",
      "[ 54] Delta: 1.000  Train avg loss: 0.037  Val macro f1: 0.996\n",
      "[ 55] Delta: 1.000  Train avg loss: 0.033  Val macro f1: 0.997\n",
      "[ 56] Delta: 1.000  Train avg loss: 0.030  Val macro f1: 0.997\n",
      "[ 57] Delta: 1.000  Train avg loss: 0.028  Val macro f1: 0.998\n",
      "[ 58] Delta: 1.000  Train avg loss: 0.025  Val macro f1: 0.998\n",
      "[ 59] Delta: 1.000  Train avg loss: 0.023  Val macro f1: 0.999\n",
      "[ 60] Delta: 1.000  Train avg loss: 0.021  Val macro f1: 0.999\n",
      "[ 61] Delta: 1.000  Train avg loss: 0.020  Val macro f1: 0.999\n",
      "[ 62] Delta: 1.000  Train avg loss: 0.018  Val macro f1: 0.999\n",
      "[ 63] Delta: 1.000  Train avg loss: 0.017  Val macro f1: 1.000\n",
      "[ 64] Delta: 1.000  Train avg loss: 0.016  Val macro f1: 1.000\n",
      "[ 65] Delta: 1.000  Train avg loss: 0.015  Val macro f1: 1.000\n",
      "[ 66] Delta: 1.000  Train avg loss: 0.014  Val macro f1: 1.000\n",
      "[ 67] Delta: 1.000  Train avg loss: 0.013  Val macro f1: 1.000\n",
      "[ 68] Delta: 1.000  Train avg loss: 0.013  Val macro f1: 1.000\n",
      "[ 69] Delta: 1.000  Train avg loss: 0.012  Val macro f1: 1.000\n",
      "[ 70] Delta: 1.000  Train avg loss: 0.011  Val macro f1: 1.000\n",
      "[ 71] Delta: 1.000  Train avg loss: 0.011  Val macro f1: 1.000\n",
      "[ 72] Delta: 1.000  Train avg loss: 0.010  Val macro f1: 1.000\n",
      "[ 73] Delta: 1.000  Train avg loss: 0.010  Val macro f1: 1.000\n",
      "[ 74] Delta: 1.000  Train avg loss: 0.010  Val macro f1: 1.000\n",
      "[ 75] Delta: 1.000  Train avg loss: 0.009  Val macro f1: 1.000\n",
      "[ 76] Delta: 1.000  Train avg loss: 0.009  Val macro f1: 1.000\n",
      "[ 77] Delta: 1.000  Train avg loss: 0.008  Val macro f1: 1.000\n",
      "[ 78] Delta: 1.000  Train avg loss: 0.008  Val macro f1: 1.000\n",
      "[ 79] Delta: 1.000  Train avg loss: 0.008  Val macro f1: 1.000\n",
      "[ 80] Delta: 1.000  Train avg loss: 0.007  Val macro f1: 1.000\n",
      "[ 81] Delta: 1.000  Train avg loss: 0.007  Val macro f1: 1.000\n",
      "[ 82] Delta: 1.000  Train avg loss: 0.007  Val macro f1: 1.000\n",
      "[ 83] Delta: 1.000  Train avg loss: 0.006  Val macro f1: 1.000\n",
      "[ 84] Delta: 1.000  Train avg loss: 0.006  Val macro f1: 1.000\n",
      "[ 85] Delta: 1.000  Train avg loss: 0.006  Val macro f1: 1.000\n",
      "[ 86] Delta: 1.000  Train avg loss: 0.006  Val macro f1: 1.000\n",
      "[ 87] Delta: 1.000  Train avg loss: 0.005  Val macro f1: 1.000\n",
      "[ 88] Delta: 1.000  Train avg loss: 0.005  Val macro f1: 1.000\n",
      "[ 89] Delta: 1.000  Train avg loss: 0.005  Val macro f1: 1.000\n",
      "[ 90] Delta: 1.000  Train avg loss: 0.005  Val macro f1: 1.000\n",
      "[ 91] Delta: 1.000  Train avg loss: 0.005  Val macro f1: 1.000\n",
      "[ 92] Delta: 1.000  Train avg loss: 0.004  Val macro f1: 1.000\n",
      "[ 93] Delta: 1.000  Train avg loss: 0.004  Val macro f1: 1.000\n",
      "[ 94] Delta: 1.000  Train avg loss: 0.004  Val macro f1: 1.000\n",
      "[ 95] Delta: 1.000  Train avg loss: 0.004  Val macro f1: 1.000\n",
      "[ 96] Delta: 1.000  Train avg loss: 0.004  Val macro f1: 1.000\n",
      "[ 97] Delta: 1.000  Train avg loss: 0.004  Val macro f1: 1.000\n",
      "[ 98] Delta: 1.000  Train avg loss: 0.003  Val macro f1: 1.000\n",
      "[ 99] Delta: 1.000  Train avg loss: 0.003  Val macro f1: 1.000\n",
      "[100] Delta: 1.000  Train avg loss: 0.003  Val macro f1: 1.000\n"
     ]
    }
   ],
   "source": [
    "for i in range(NUM_EPOCHS):\n",
    "    model.train()\n",
    "    epoch_loss = []\n",
    "    for x, y in train_loader:\n",
    "        optimiser.zero_grad()\n",
    "        y_hat = (torch.tanh(model(x.float())) + 1) / 2\n",
    "        loss = criterion(y_hat.squeeze(), (y == 1).float() )\n",
    "        loss.backward()\n",
    "        optimiser.step()\n",
    "\n",
    "        epoch_loss.append(loss.item())\n",
    "    \n",
    "    model.eval()\n",
    "    macro_f1 = None\n",
    "\n",
    "    for x, y in val_loader:\n",
    "        with torch.no_grad():\n",
    "            y_hat = (torch.tanh(model(x.float())) + 1) / 2\n",
    "            y_pred = torch.where(y_hat > 0.5, 1, 0)\n",
    "            macro_f1 = f1_score(y, y_pred, average='macro')\n",
    "\n",
    "    new_delta_val = delta_decay_scheduler.step(model, i)\n",
    "    avg_loss = sum(epoch_loss) / len(epoch_loss)\n",
    "    print(f'[{i + 1:3d}] Delta: {new_delta_val:.3f}  '\n",
    "          f'Train avg loss: {avg_loss:.3f}  '\n",
    "          f'Val macro f1: {macro_f1:.3f}')"
   ]
  },
  {
   "cell_type": "code",
   "execution_count": 10,
   "metadata": {},
   "outputs": [
    {
     "name": "stdout",
     "output_type": "stream",
     "text": [
      "Test macro F1: 1.000\n",
      "\n",
      "[[[ 342    0]\n",
      "  [   0 2158]]\n",
      "\n",
      " [[ 117    0]\n",
      "  [   0 2383]]\n",
      "\n",
      " [[ 883    0]\n",
      "  [   0 1617]]]\n"
     ]
    }
   ],
   "source": [
    "for x, y in test_loader:\n",
    "    with torch.no_grad():\n",
    "        y_hat = (torch.tanh(model(x.float())) + 1) / 2\n",
    "        y_pred = torch.where(y_hat > 0.5, 1, 0)\n",
    "        macro_f1 = f1_score(y, y_pred, average='macro')\n",
    "print(f'Test macro F1: {macro_f1:.3f}')\n",
    "print()\n",
    "print(multilabel_confusion_matrix(y, y_pred))"
   ]
  },
  {
   "cell_type": "code",
   "execution_count": 11,
   "metadata": {},
   "outputs": [],
   "source": [
    "torch.save(model.state_dict(), f'multi_label_dnf_synth_{RNG_SEED}.pth')"
   ]
  },
  {
   "cell_type": "code",
   "execution_count": 12,
   "metadata": {},
   "outputs": [],
   "source": [
    "# sd = torch.load(f'multi_label_dnf_synth_{RNG_SEED}.pth')\n",
    "# model.load_state_dict(sd)"
   ]
  },
  {
   "cell_type": "markdown",
   "metadata": {},
   "source": [
    "# Post Training Process"
   ]
  },
  {
   "cell_type": "code",
   "execution_count": 13,
   "metadata": {},
   "outputs": [],
   "source": [
    "def prune_layer_weight(\n",
    "    model,\n",
    "    layer_type: SemiSymbolicLayerType,\n",
    "    epsilon: float,\n",
    "    data_loader: DataLoader, # This should be val loader\n",
    ") -> int:\n",
    "    if layer_type == SemiSymbolicLayerType.CONJUNCTION:\n",
    "        curr_weight = model.dnf.conjunctions.weights.data.clone()\n",
    "    else:\n",
    "        curr_weight = model.dnf.disjunctions.weights.data.clone()\n",
    "\n",
    "    for x, y in data_loader:\n",
    "        with torch.no_grad():\n",
    "            # Assuming val loader (only 1 batch)\n",
    "            y_hat = (torch.tanh(model(x.float())) + 1) / 2\n",
    "            y_pred = torch.where(y_hat > 0.5, 1, 0)\n",
    "            og_macro_f1 = f1_score(y, y_pred, average='macro')\n",
    "\n",
    "    prune_count = 0\n",
    "    weight_device = curr_weight.device\n",
    "\n",
    "    flatten_weight_len = len(torch.reshape(curr_weight, (-1,)))\n",
    "    base_iterator = range(flatten_weight_len)\n",
    "    for i in base_iterator:\n",
    "        curr_weight_flatten = torch.reshape(curr_weight, (-1,))\n",
    "\n",
    "        if curr_weight_flatten[i] == 0:\n",
    "            continue\n",
    "\n",
    "        mask = torch.ones(flatten_weight_len, device=weight_device)\n",
    "        mask[i] = 0\n",
    "        mask = mask.reshape(curr_weight.shape)\n",
    "\n",
    "        masked_weight = curr_weight * mask\n",
    "\n",
    "        if layer_type == SemiSymbolicLayerType.CONJUNCTION:\n",
    "            model.dnf.conjunctions.weights.data = masked_weight\n",
    "        else:\n",
    "            model.dnf.disjunctions.weights.data = masked_weight\n",
    "\n",
    "        for x, y in data_loader:\n",
    "            with torch.no_grad():\n",
    "                y_hat = (torch.tanh(model(x.float())) + 1) / 2\n",
    "                y_pred = torch.where(y_hat > 0.5, 1, 0)\n",
    "                new_macro_f1 = f1_score(y, y_pred, average='macro')\n",
    "\n",
    "        performance_drop = og_macro_f1 - new_macro_f1\n",
    "        if performance_drop < epsilon:\n",
    "            prune_count += 1\n",
    "            curr_weight *= mask\n",
    "\n",
    "    if layer_type == SemiSymbolicLayerType.CONJUNCTION:\n",
    "        model.dnf.conjunctions.weights.data = curr_weight\n",
    "    else:\n",
    "        model.dnf.disjunctions.weights.data = curr_weight\n",
    "    return prune_count"
   ]
  },
  {
   "cell_type": "code",
   "execution_count": 14,
   "metadata": {},
   "outputs": [
    {
     "name": "stdout",
     "output_type": "stream",
     "text": [
      "Prune disj layer\n",
      "Pruned disj count:        8\n",
      "New test perf after disj: 1.000\n",
      "[[[ 342    0]\n",
      "  [   0 2158]]\n",
      "\n",
      " [[ 117    0]\n",
      "  [   0 2383]]\n",
      "\n",
      " [[ 883    0]\n",
      "  [   0 1617]]]\n",
      "\n",
      "Remove unused conjunctions: 1\n",
      "\n",
      "Prune conj layer\n",
      "Pruned conj count:        51\n",
      "New test perf after disj: 0.995\n",
      "[[[ 290   52]\n",
      "  [   0 2158]]\n",
      "\n",
      " [[ 102   15]\n",
      "  [   0 2383]]\n",
      "\n",
      " [[ 883    0]\n",
      "  [   0 1617]]]\n",
      "\n",
      "Remove disjunction that uses empty conjunctions: 6\n",
      "\n",
      "Prune disj layer again\n",
      "Pruned disj count:        0\n",
      "New test perf after disj: 0.967\n",
      "[[[ 290   52]\n",
      "  [ 332 1826]]\n",
      "\n",
      " [[ 102   15]\n",
      "  [   0 2383]]\n",
      "\n",
      " [[ 883    0]\n",
      "  [   0 1617]]]\n",
      "\n"
     ]
    }
   ],
   "source": [
    "prune_epsilon = 0.005\n",
    "print('Prune disj layer')\n",
    "prune_count = prune_layer_weight(model, SemiSymbolicLayerType.DISJUNCTION,\n",
    "    prune_epsilon, val_loader)\n",
    "\n",
    "for x, y in test_loader:\n",
    "    with torch.no_grad():\n",
    "        y_hat = (torch.tanh(model(x.float())) + 1) / 2\n",
    "        y_pred = torch.where(y_hat > 0.5, 1, 0)\n",
    "        macro_f1 = f1_score(y, y_pred, average='macro')\n",
    "\n",
    "print(f'Pruned disj count:        {prune_count}')\n",
    "print(f'New test perf after disj: {macro_f1:.3f}')\n",
    "print(multilabel_confusion_matrix(y, y_pred))\n",
    "print()\n",
    "\n",
    "unused_conj = remove_unused_conjunctions(model)\n",
    "print(f'Remove unused conjunctions: {unused_conj}')\n",
    "print()\n",
    "\n",
    "print('Prune conj layer')\n",
    "prune_count = prune_layer_weight(model, SemiSymbolicLayerType.CONJUNCTION, \n",
    "    prune_epsilon, val_loader)\n",
    "\n",
    "\n",
    "for x, y in test_loader:\n",
    "    with torch.no_grad():\n",
    "        y_hat = (torch.tanh(model(x.float())) + 1) / 2\n",
    "        y_pred = torch.where(y_hat > 0.5, 1, 0)\n",
    "        macro_f1 = f1_score(y, y_pred, average='macro')\n",
    "print(f'Pruned conj count:        {prune_count}')\n",
    "print(f'New test perf after disj: {macro_f1:.3f}')\n",
    "print(multilabel_confusion_matrix(y, y_pred))\n",
    "print()\n",
    "\n",
    "removed_disj = remove_disjunctions_when_empty_conjunctions(model)\n",
    "print(\n",
    "    f'Remove disjunction that uses empty conjunctions: {removed_disj}'\n",
    ")\n",
    "print()\n",
    "\n",
    "print('Prune disj layer again')\n",
    "prune_count = prune_layer_weight(model, SemiSymbolicLayerType.DISJUNCTION,\n",
    "    prune_epsilon, val_loader)\n",
    "\n",
    "for x, y in test_loader:\n",
    "    with torch.no_grad():\n",
    "        y_hat = (torch.tanh(model(x.float())) + 1) / 2\n",
    "        y_pred = torch.where(y_hat > 0.5, 1, 0)\n",
    "        macro_f1 = f1_score(y, y_pred, average='macro')\n",
    "\n",
    "print(f'Pruned disj count:        {prune_count}')\n",
    "print(f'New test perf after disj: {macro_f1:.3f}')\n",
    "print(multilabel_confusion_matrix(y, y_pred))\n",
    "print()"
   ]
  },
  {
   "cell_type": "code",
   "execution_count": 15,
   "metadata": {},
   "outputs": [
    {
     "name": "stdout",
     "output_type": "stream",
     "text": [
      "Prune procedure final f1:    0.967\n",
      "\n",
      "[[[ 290   52]\n",
      "  [ 332 1826]]\n",
      "\n",
      " [[ 102   15]\n",
      "  [   0 2383]]\n",
      "\n",
      " [[ 883    0]\n",
      "  [   0 1617]]]\n"
     ]
    }
   ],
   "source": [
    "for x, y in test_loader:\n",
    "    with torch.no_grad():\n",
    "        y_hat = (torch.tanh(model(x.float())) + 1) / 2\n",
    "        y_pred = torch.where(y_hat > 0.5, 1, 0)\n",
    "        macro_f1 = f1_score(y, y_pred, average='macro')\n",
    "print(f'Prune procedure final f1:    {macro_f1:.3f}')\n",
    "print()\n",
    "print(multilabel_confusion_matrix(y, y_pred))"
   ]
  },
  {
   "cell_type": "code",
   "execution_count": 16,
   "metadata": {},
   "outputs": [],
   "source": [
    "# pre_threshold_sd = model.state_dict()\n",
    "conj_min = torch.min(model.dnf.conjunctions.weights.data)\n",
    "conj_max = torch.max(model.dnf.conjunctions.weights.data)\n",
    "disj_min = torch.min(model.dnf.disjunctions.weights.data)\n",
    "disj_max = torch.max(model.dnf.disjunctions.weights.data)\n",
    "\n",
    "abs_max = torch.max(torch.abs(torch.Tensor([conj_min, conj_max, disj_min, disj_max])))\n",
    "\n",
    "og_conj_weight = model.dnf.conjunctions.weights.data.clone()\n",
    "og_disj_weight = model.dnf.disjunctions.weights.data.clone()\n",
    "\n",
    "t_vals = torch.arange(0, abs_max + 0.01, 0.01)"
   ]
  },
  {
   "cell_type": "code",
   "execution_count": 17,
   "metadata": {},
   "outputs": [
    {
     "name": "stdout",
     "output_type": "stream",
     "text": [
      "Best t: 0.440    Macro f1: 0.987\n"
     ]
    }
   ],
   "source": [
    "# model.load_state_dict(pre_threshold_sd)\n",
    "acc_scores = []\n",
    "for v in t_vals:\n",
    "    apply_threshold(model, og_conj_weight, og_disj_weight,\n",
    "                              v, 6.0)\n",
    "    for x, y in val_loader:\n",
    "        with torch.no_grad():\n",
    "            y_hat = torch.tanh(model(x.float()))\n",
    "            y_pred = torch.where(y_hat > 0, 1, 0)\n",
    "            macro_f1 = f1_score(y, y_pred, average='macro')\n",
    "    acc_scores.append(macro_f1)\n",
    "\n",
    "best_acc_score = max(acc_scores)\n",
    "best_t = t_vals[torch.argmax(torch.Tensor(acc_scores))]\n",
    "print(f'Best t: {best_t.item():.3f}    Macro f1: {best_acc_score:.3f}')\n",
    "apply_threshold(model, og_conj_weight, og_disj_weight, best_t)"
   ]
  },
  {
   "cell_type": "code",
   "execution_count": 18,
   "metadata": {},
   "outputs": [
    {
     "name": "stdout",
     "output_type": "stream",
     "text": [
      "Test macro f1 after threshold: 0.987\n",
      "\n",
      "[[[ 290   52]\n",
      "  [   0 2158]]\n",
      "\n",
      " [[ 102   15]\n",
      "  [ 107 2276]]\n",
      "\n",
      " [[ 883    0]\n",
      "  [   0 1617]]]\n"
     ]
    }
   ],
   "source": [
    "for x, y in test_loader:\n",
    "    with torch.no_grad():\n",
    "        y_hat = torch.tanh(model(x.float()))\n",
    "        y_pred = torch.where(y_hat > 0, 1, 0)\n",
    "        macro_f1 = f1_score(y, y_pred, average='macro')\n",
    "    print(f'Test macro f1 after threshold: {macro_f1:.3f}')\n",
    "print()\n",
    "print(multilabel_confusion_matrix(y, y_pred))"
   ]
  },
  {
   "cell_type": "code",
   "execution_count": 19,
   "metadata": {},
   "outputs": [
    {
     "name": "stdout",
     "output_type": "stream",
     "text": [
      "conj_1 :- not has_attr_12, has_attr_14.\n",
      "conj_2 :- not has_attr_9, not has_attr_11.\n",
      "conj_4 :- has_attr_0, has_attr_2.\n",
      "label(0) :- conj_1.\n",
      "label(0) :- conj_2.\n",
      "label(1) :- conj_1.\n",
      "label(1) :- not conj_2.\n",
      "label(1) :- conj_4.\n",
      "label(2) :- conj_4.\n"
     ]
    }
   ],
   "source": [
    "output_rules = extract_asp_rules(model.state_dict())\n",
    "for r in output_rules:\n",
    "    print(r)"
   ]
  },
  {
   "cell_type": "code",
   "execution_count": 20,
   "metadata": {},
   "outputs": [
    {
     "name": "stdout",
     "output_type": "stream",
     "text": [
      "Rules F1 0.9873311327098233\n",
      "\n",
      "[[[ 290   52]\n",
      "  [   0 2158]]\n",
      "\n",
      " [[ 102   15]\n",
      "  [ 107 2276]]\n",
      "\n",
      " [[ 883    0]\n",
      "  [   0 1617]]]\n"
     ]
    }
   ],
   "source": [
    "show_statements = [f'#show label/1.']\n",
    "\n",
    "\n",
    "y_pred_batch = []\n",
    "\n",
    "for x_batch, y_batch in test_loader:\n",
    "    for i in range(len(x_batch)):\n",
    "        x = x_batch[i]\n",
    "        y = y_batch[i]\n",
    "        x_asp = [f\"has_attr_{j}.\" for j in range(len(x)) if x[j] == 1]\n",
    "        ctl = clingo.Control([\"--warn=none\"])\n",
    "        ctl.add(\"base\", [], \" \".join(x_asp + output_rules + show_statements))\n",
    "        ctl.ground([(\"base\", [])])\n",
    "        with ctl.solve(yield_=True) as handle:\n",
    "            asp_model = handle.model()\n",
    "        if not asp_model or str(asp_model) == \"\":\n",
    "            prediction_one_hot = torch.zeros(y.shape)\n",
    "        else:\n",
    "            # Find predicted all label\n",
    "            p = re.compile(r\"\\d+\")\n",
    "            predict_labels = [int(l) for l in p.findall(str(asp_model))]\n",
    "            prediction_one_hot = torch.zeros(y.shape)\n",
    "            prediction_one_hot[predict_labels] = 1\n",
    "        y_pred_batch.append(prediction_one_hot)\n",
    "    y_pred = torch.cat(y_pred_batch).reshape(-1, NUM_LABELS)\n",
    "    macro_f1 = f1_score(y_batch, y_pred, average='macro')\n",
    "    print(f'Rules F1 {macro_f1}')\n",
    "    print()\n",
    "    print(multilabel_confusion_matrix(y_batch, y_pred))"
   ]
  },
  {
   "cell_type": "markdown",
   "metadata": {},
   "source": [
    "# Original Rules"
   ]
  },
  {
   "cell_type": "code",
   "execution_count": 21,
   "metadata": {},
   "outputs": [
    {
     "data": {
      "text/plain": [
       "array(['c0 :- a0, a2.', 'c1 :- not a3, not a4, not a5.',\n",
       "       'c2 :- a6, a7, a8.', 'c3 :- not a9, not a11.',\n",
       "       'c4 :- not a12, a13, a14.', 'l0 :- c3.', 'l0 :- c4.', 'l1 :- c0.',\n",
       "       'l1 :- c1.', 'l1 :- c4.', 'l2 :- c0.'], dtype='<U29')"
      ]
     },
     "execution_count": 21,
     "metadata": {},
     "output_type": "execute_result"
    }
   ],
   "source": [
    "dnpz['rule_str']"
   ]
  }
 ],
 "metadata": {
  "kernelspec": {
   "display_name": "Python 3.8.10 ('venv')",
   "language": "python",
   "name": "python3"
  },
  "language_info": {
   "codemirror_mode": {
    "name": "ipython",
    "version": 3
   },
   "file_extension": ".py",
   "mimetype": "text/x-python",
   "name": "python",
   "nbconvert_exporter": "python",
   "pygments_lexer": "ipython3",
   "version": "3.10.6"
  },
  "orig_nbformat": 4,
  "vscode": {
   "interpreter": {
    "hash": "60f4e6e0934b482f46ff6ff5ba65bfe0692fda7391c7ef62ded80b7f64a3508e"
   }
  }
 },
 "nbformat": 4,
 "nbformat_minor": 2
}
