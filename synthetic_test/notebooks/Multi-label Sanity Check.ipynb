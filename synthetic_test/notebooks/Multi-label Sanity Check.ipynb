{
 "cells": [
  {
   "cell_type": "code",
   "execution_count": 1,
   "metadata": {},
   "outputs": [],
   "source": [
    "import sys\n",
    "\n",
    "sys.path.append('..')\n",
    "sys.path.append('../..')"
   ]
  },
  {
   "cell_type": "code",
   "execution_count": 2,
   "metadata": {},
   "outputs": [],
   "source": [
    "import clingo\n",
    "import numpy as np\n",
    "from sklearn.model_selection import train_test_split\n",
    "from sklearn.metrics import multilabel_confusion_matrix, precision_recall_fscore_support, f1_score\n",
    " \n",
    "import torch\n",
    "from torch.utils.data import DataLoader"
   ]
  },
  {
   "cell_type": "code",
   "execution_count": 3,
   "metadata": {},
   "outputs": [],
   "source": [
    "from dnf_layer import SemiSymbolicLayerType\n",
    "from rule_learner import DNFClassifier\n",
    "from test_common import SyntheticDataset\n",
    "from utils import DeltaDelayedExponentialDecayScheduler"
   ]
  },
  {
   "cell_type": "code",
   "execution_count": 4,
   "metadata": {},
   "outputs": [],
   "source": [
    "SYNTH_DATA_PATH = 'synth_multi_label_data_in15_conj5.npz'\n",
    "RNG_SEED = 75\n",
    "BATCH_SIZE = 64\n",
    "NUM_EPOCHS = 100"
   ]
  },
  {
   "cell_type": "code",
   "execution_count": 5,
   "metadata": {},
   "outputs": [],
   "source": [
    "torch.manual_seed(RNG_SEED)\n",
    "np.random.seed(RNG_SEED)"
   ]
  },
  {
   "cell_type": "code",
   "execution_count": 6,
   "metadata": {},
   "outputs": [],
   "source": [
    "dnpz = np.load(SYNTH_DATA_PATH)\n",
    "full_nullary = dnpz['nullary']\n",
    "full_target = dnpz['target']"
   ]
  },
  {
   "cell_type": "code",
   "execution_count": 7,
   "metadata": {},
   "outputs": [],
   "source": [
    "nullary_full_train, nullary_test, target_full_train, target_test = train_test_split(\n",
    "    full_nullary, full_target, random_state=RNG_SEED)\n",
    "nullary_train, nullary_val, target_train, target_val = train_test_split(\n",
    "    nullary_full_train, target_full_train, test_size=0.2, random_state=RNG_SEED\n",
    ")\n",
    "\n",
    "train_loader = DataLoader(SyntheticDataset(nullary_train, target_train), BATCH_SIZE)\n",
    "val_dataset = SyntheticDataset(nullary_val, target_val)\n",
    "val_loader = DataLoader(val_dataset, len(val_dataset))\n",
    "test_dataset = SyntheticDataset(nullary_test, target_test)\n",
    "test_loader = DataLoader(test_dataset, len(test_dataset))"
   ]
  },
  {
   "cell_type": "code",
   "execution_count": 8,
   "metadata": {},
   "outputs": [],
   "source": [
    "model = DNFClassifier(15, 5, 3, 0.1)\n",
    "delta_decay_scheduler = DeltaDelayedExponentialDecayScheduler(\n",
    "    initial_delta=0.1,\n",
    "    delta_decay_delay=10,\n",
    "    delta_decay_steps=1,\n",
    "    delta_decay_rate=1.1,\n",
    ")\n",
    "optimiser = torch.optim.Adam(model.parameters(), 0.001)\n",
    "criterion = torch.nn.BCELoss()"
   ]
  },
  {
   "cell_type": "code",
   "execution_count": 9,
   "metadata": {},
   "outputs": [
    {
     "name": "stdout",
     "output_type": "stream",
     "text": [
      "[  1] Delta: 0.100  Train avg loss: 0.601  Val macro f1: 0.913\n",
      "[  2] Delta: 0.100  Train avg loss: 0.435  Val macro f1: 0.924\n",
      "[  3] Delta: 0.100  Train avg loss: 0.333  Val macro f1: 0.938\n",
      "[  4] Delta: 0.100  Train avg loss: 0.271  Val macro f1: 0.967\n",
      "[  5] Delta: 0.100  Train avg loss: 0.230  Val macro f1: 0.975\n",
      "[  6] Delta: 0.100  Train avg loss: 0.202  Val macro f1: 0.977\n",
      "[  7] Delta: 0.100  Train avg loss: 0.182  Val macro f1: 0.978\n",
      "[  8] Delta: 0.100  Train avg loss: 0.168  Val macro f1: 0.979\n",
      "[  9] Delta: 0.100  Train avg loss: 0.156  Val macro f1: 0.980\n",
      "[ 10] Delta: 0.100  Train avg loss: 0.147  Val macro f1: 0.980\n",
      "[ 11] Delta: 0.100  Train avg loss: 0.140  Val macro f1: 0.980\n",
      "[ 12] Delta: 0.110  Train avg loss: 0.134  Val macro f1: 0.980\n",
      "[ 13] Delta: 0.121  Train avg loss: 0.128  Val macro f1: 0.979\n",
      "[ 14] Delta: 0.133  Train avg loss: 0.123  Val macro f1: 0.977\n",
      "[ 15] Delta: 0.146  Train avg loss: 0.119  Val macro f1: 0.977\n",
      "[ 16] Delta: 0.161  Train avg loss: 0.115  Val macro f1: 0.978\n",
      "[ 17] Delta: 0.177  Train avg loss: 0.111  Val macro f1: 0.977\n",
      "[ 18] Delta: 0.195  Train avg loss: 0.108  Val macro f1: 0.978\n",
      "[ 19] Delta: 0.214  Train avg loss: 0.106  Val macro f1: 0.977\n",
      "[ 20] Delta: 0.236  Train avg loss: 0.103  Val macro f1: 0.978\n",
      "[ 21] Delta: 0.259  Train avg loss: 0.101  Val macro f1: 0.978\n",
      "[ 22] Delta: 0.285  Train avg loss: 0.099  Val macro f1: 0.978\n",
      "[ 23] Delta: 0.314  Train avg loss: 0.098  Val macro f1: 0.979\n",
      "[ 24] Delta: 0.345  Train avg loss: 0.096  Val macro f1: 0.980\n",
      "[ 25] Delta: 0.380  Train avg loss: 0.095  Val macro f1: 0.980\n",
      "[ 26] Delta: 0.418  Train avg loss: 0.094  Val macro f1: 0.981\n",
      "[ 27] Delta: 0.459  Train avg loss: 0.092  Val macro f1: 0.983\n",
      "[ 28] Delta: 0.505  Train avg loss: 0.092  Val macro f1: 0.984\n",
      "[ 29] Delta: 0.556  Train avg loss: 0.092  Val macro f1: 0.983\n",
      "[ 30] Delta: 0.612  Train avg loss: 0.092  Val macro f1: 0.982\n",
      "[ 31] Delta: 0.673  Train avg loss: 0.092  Val macro f1: 0.982\n",
      "[ 32] Delta: 0.740  Train avg loss: 0.093  Val macro f1: 0.982\n",
      "[ 33] Delta: 0.814  Train avg loss: 0.095  Val macro f1: 0.982\n",
      "[ 34] Delta: 0.895  Train avg loss: 0.095  Val macro f1: 0.982\n",
      "[ 35] Delta: 0.985  Train avg loss: 0.095  Val macro f1: 0.982\n",
      "[ 36] Delta: 1.000  Train avg loss: 0.097  Val macro f1: 0.981\n",
      "[ 37] Delta: 1.000  Train avg loss: 0.092  Val macro f1: 0.982\n",
      "[ 38] Delta: 1.000  Train avg loss: 0.087  Val macro f1: 0.982\n",
      "[ 39] Delta: 1.000  Train avg loss: 0.083  Val macro f1: 0.983\n",
      "[ 40] Delta: 1.000  Train avg loss: 0.079  Val macro f1: 0.983\n",
      "[ 41] Delta: 1.000  Train avg loss: 0.076  Val macro f1: 0.984\n",
      "[ 42] Delta: 1.000  Train avg loss: 0.073  Val macro f1: 0.985\n",
      "[ 43] Delta: 1.000  Train avg loss: 0.069  Val macro f1: 0.986\n",
      "[ 44] Delta: 1.000  Train avg loss: 0.062  Val macro f1: 0.987\n",
      "[ 45] Delta: 1.000  Train avg loss: 0.054  Val macro f1: 0.992\n",
      "[ 46] Delta: 1.000  Train avg loss: 0.048  Val macro f1: 0.992\n",
      "[ 47] Delta: 1.000  Train avg loss: 0.043  Val macro f1: 0.992\n",
      "[ 48] Delta: 1.000  Train avg loss: 0.039  Val macro f1: 0.994\n",
      "[ 49] Delta: 1.000  Train avg loss: 0.035  Val macro f1: 0.997\n",
      "[ 50] Delta: 1.000  Train avg loss: 0.032  Val macro f1: 0.997\n",
      "[ 51] Delta: 1.000  Train avg loss: 0.030  Val macro f1: 0.998\n",
      "[ 52] Delta: 1.000  Train avg loss: 0.028  Val macro f1: 0.998\n",
      "[ 53] Delta: 1.000  Train avg loss: 0.026  Val macro f1: 0.998\n",
      "[ 54] Delta: 1.000  Train avg loss: 0.024  Val macro f1: 0.998\n",
      "[ 55] Delta: 1.000  Train avg loss: 0.023  Val macro f1: 0.998\n",
      "[ 56] Delta: 1.000  Train avg loss: 0.021  Val macro f1: 0.998\n",
      "[ 57] Delta: 1.000  Train avg loss: 0.020  Val macro f1: 0.998\n",
      "[ 58] Delta: 1.000  Train avg loss: 0.019  Val macro f1: 0.999\n",
      "[ 59] Delta: 1.000  Train avg loss: 0.018  Val macro f1: 0.999\n",
      "[ 60] Delta: 1.000  Train avg loss: 0.017  Val macro f1: 1.000\n",
      "[ 61] Delta: 1.000  Train avg loss: 0.016  Val macro f1: 1.000\n",
      "[ 62] Delta: 1.000  Train avg loss: 0.016  Val macro f1: 1.000\n",
      "[ 63] Delta: 1.000  Train avg loss: 0.015  Val macro f1: 1.000\n",
      "[ 64] Delta: 1.000  Train avg loss: 0.014  Val macro f1: 1.000\n",
      "[ 65] Delta: 1.000  Train avg loss: 0.013  Val macro f1: 1.000\n",
      "[ 66] Delta: 1.000  Train avg loss: 0.013  Val macro f1: 1.000\n",
      "[ 67] Delta: 1.000  Train avg loss: 0.012  Val macro f1: 1.000\n",
      "[ 68] Delta: 1.000  Train avg loss: 0.012  Val macro f1: 1.000\n",
      "[ 69] Delta: 1.000  Train avg loss: 0.011  Val macro f1: 1.000\n",
      "[ 70] Delta: 1.000  Train avg loss: 0.011  Val macro f1: 1.000\n",
      "[ 71] Delta: 1.000  Train avg loss: 0.010  Val macro f1: 1.000\n",
      "[ 72] Delta: 1.000  Train avg loss: 0.010  Val macro f1: 1.000\n",
      "[ 73] Delta: 1.000  Train avg loss: 0.010  Val macro f1: 1.000\n",
      "[ 74] Delta: 1.000  Train avg loss: 0.009  Val macro f1: 1.000\n",
      "[ 75] Delta: 1.000  Train avg loss: 0.009  Val macro f1: 1.000\n",
      "[ 76] Delta: 1.000  Train avg loss: 0.008  Val macro f1: 1.000\n",
      "[ 77] Delta: 1.000  Train avg loss: 0.008  Val macro f1: 1.000\n",
      "[ 78] Delta: 1.000  Train avg loss: 0.008  Val macro f1: 1.000\n",
      "[ 79] Delta: 1.000  Train avg loss: 0.007  Val macro f1: 1.000\n",
      "[ 80] Delta: 1.000  Train avg loss: 0.007  Val macro f1: 1.000\n",
      "[ 81] Delta: 1.000  Train avg loss: 0.007  Val macro f1: 1.000\n",
      "[ 82] Delta: 1.000  Train avg loss: 0.007  Val macro f1: 1.000\n",
      "[ 83] Delta: 1.000  Train avg loss: 0.006  Val macro f1: 1.000\n",
      "[ 84] Delta: 1.000  Train avg loss: 0.006  Val macro f1: 1.000\n",
      "[ 85] Delta: 1.000  Train avg loss: 0.006  Val macro f1: 1.000\n",
      "[ 86] Delta: 1.000  Train avg loss: 0.006  Val macro f1: 1.000\n",
      "[ 87] Delta: 1.000  Train avg loss: 0.005  Val macro f1: 1.000\n",
      "[ 88] Delta: 1.000  Train avg loss: 0.005  Val macro f1: 1.000\n",
      "[ 89] Delta: 1.000  Train avg loss: 0.005  Val macro f1: 1.000\n",
      "[ 90] Delta: 1.000  Train avg loss: 0.005  Val macro f1: 1.000\n",
      "[ 91] Delta: 1.000  Train avg loss: 0.005  Val macro f1: 1.000\n",
      "[ 92] Delta: 1.000  Train avg loss: 0.004  Val macro f1: 1.000\n",
      "[ 93] Delta: 1.000  Train avg loss: 0.004  Val macro f1: 1.000\n",
      "[ 94] Delta: 1.000  Train avg loss: 0.004  Val macro f1: 1.000\n",
      "[ 95] Delta: 1.000  Train avg loss: 0.004  Val macro f1: 1.000\n",
      "[ 96] Delta: 1.000  Train avg loss: 0.004  Val macro f1: 1.000\n",
      "[ 97] Delta: 1.000  Train avg loss: 0.003  Val macro f1: 1.000\n",
      "[ 98] Delta: 1.000  Train avg loss: 0.003  Val macro f1: 1.000\n",
      "[ 99] Delta: 1.000  Train avg loss: 0.003  Val macro f1: 1.000\n",
      "[100] Delta: 1.000  Train avg loss: 0.003  Val macro f1: 1.000\n"
     ]
    }
   ],
   "source": [
    "for i in range(NUM_EPOCHS):\n",
    "    model.train()\n",
    "    epoch_loss = []\n",
    "    for x, y in train_loader:\n",
    "        optimiser.zero_grad()\n",
    "        y_hat = (torch.tanh(model(x.float())) + 1) / 2\n",
    "        loss = criterion(y_hat.squeeze(), (y == 1).float() )\n",
    "        loss.backward()\n",
    "        optimiser.step()\n",
    "\n",
    "        epoch_loss.append(loss.item())\n",
    "    \n",
    "    model.eval()\n",
    "    macro_f1 = None\n",
    "\n",
    "    for x, y in val_loader:\n",
    "        with torch.no_grad():\n",
    "            y_hat = (torch.tanh(model(x.float())) + 1) / 2\n",
    "            y_pred = torch.where(y_hat > 0.5, 1, 0)\n",
    "            macro_f1 = f1_score(y, y_pred, average='macro')\n",
    "\n",
    "    new_delta_val = delta_decay_scheduler.step(model, i)\n",
    "    avg_loss = sum(epoch_loss) / len(epoch_loss)\n",
    "    print(f'[{i + 1:3d}] Delta: {new_delta_val:.3f}  '\n",
    "          f'Train avg loss: {avg_loss:.3f}  '\n",
    "          f'Val macro f1: {macro_f1:.3f}')"
   ]
  },
  {
   "cell_type": "code",
   "execution_count": 10,
   "metadata": {},
   "outputs": [
    {
     "name": "stdout",
     "output_type": "stream",
     "text": [
      "Test macro F1: 1.000\n"
     ]
    }
   ],
   "source": [
    "for x, y in test_loader:\n",
    "    with torch.no_grad():\n",
    "        y_hat = (torch.tanh(model(x.float())) + 1) / 2\n",
    "        y_pred = torch.where(y_hat > 0.5, 1, 0)\n",
    "        macro_f1 = f1_score(y, y_pred, average='macro')\n",
    "print(f'Test macro F1: {macro_f1:.3f}')"
   ]
  },
  {
   "cell_type": "code",
   "execution_count": 11,
   "metadata": {},
   "outputs": [],
   "source": [
    "torch.save(model.state_dict(), f'multi_label_dnf_synth_{RNG_SEED}.pth')"
   ]
  },
  {
   "cell_type": "code",
   "execution_count": 12,
   "metadata": {},
   "outputs": [
    {
     "data": {
      "text/plain": [
       "array([[[ 330,    0],\n",
       "        [   0, 2170]],\n",
       "\n",
       "       [[  95,    0],\n",
       "        [   0, 2405]],\n",
       "\n",
       "       [[ 863,    0],\n",
       "        [   0, 1637]]])"
      ]
     },
     "execution_count": 12,
     "metadata": {},
     "output_type": "execute_result"
    }
   ],
   "source": [
    "multilabel_confusion_matrix(y, y_pred)"
   ]
  },
  {
   "cell_type": "code",
   "execution_count": 13,
   "metadata": {},
   "outputs": [],
   "source": [
    "# sd = torch.load(f'multi_label_dnf_synth_{RNG_SEED}.pth')\n",
    "# model.load_state_dict(sd)"
   ]
  },
  {
   "cell_type": "code",
   "execution_count": 14,
   "metadata": {},
   "outputs": [],
   "source": [
    "def prune_layer_weight(\n",
    "    model,\n",
    "    layer_type: SemiSymbolicLayerType,\n",
    "    epsilon: float,\n",
    "    data_loader: DataLoader,\n",
    ") -> int:\n",
    "    if layer_type == SemiSymbolicLayerType.CONJUNCTION:\n",
    "        curr_weight = model.dnf.conjunctions.weights.data.clone()\n",
    "    else:\n",
    "        curr_weight = model.dnf.disjunctions.weights.data.clone()\n",
    "\n",
    "    for x, y in data_loader:\n",
    "        with torch.no_grad():\n",
    "            y_hat = (torch.tanh(model(x.float())) + 1) / 2\n",
    "            y_pred = torch.where(y_hat > 0.5, 1, 0)\n",
    "            og_macro_f1 = f1_score(y, y_pred, average='macro')\n",
    "\n",
    "    prune_count = 0\n",
    "    weight_device = curr_weight.device\n",
    "\n",
    "    flatten_weight_len = len(torch.reshape(curr_weight, (-1,)))\n",
    "    base_iterator = range(flatten_weight_len)\n",
    "    for i in base_iterator:\n",
    "        curr_weight_flatten = torch.reshape(curr_weight, (-1,))\n",
    "\n",
    "        if curr_weight_flatten[i] == 0:\n",
    "            continue\n",
    "\n",
    "        mask = torch.ones(flatten_weight_len, device=weight_device)\n",
    "        mask[i] = 0\n",
    "        mask = mask.reshape(curr_weight.shape)\n",
    "\n",
    "        masked_weight = curr_weight * mask\n",
    "\n",
    "        if layer_type == SemiSymbolicLayerType.CONJUNCTION:\n",
    "            model.dnf.conjunctions.weights.data = masked_weight\n",
    "        else:\n",
    "            model.dnf.disjunctions.weights.data = masked_weight\n",
    "\n",
    "        for x, y in data_loader:\n",
    "            with torch.no_grad():\n",
    "                y_hat = (torch.tanh(model(x.float())) + 1) / 2\n",
    "                y_pred = torch.where(y_hat > 0.5, 1, 0)\n",
    "                new_macro_f1 = f1_score(y, y_pred, average='macro')\n",
    "\n",
    "        performance_drop = og_macro_f1 - new_macro_f1\n",
    "        if performance_drop < epsilon:\n",
    "            prune_count += 1\n",
    "            curr_weight *= mask\n",
    "\n",
    "    if layer_type == SemiSymbolicLayerType.CONJUNCTION:\n",
    "        model.dnf.conjunctions.weights.data = curr_weight\n",
    "    else:\n",
    "        model.dnf.disjunctions.weights.data = curr_weight\n",
    "    return prune_count"
   ]
  },
  {
   "cell_type": "code",
   "execution_count": 15,
   "metadata": {},
   "outputs": [
    {
     "name": "stdout",
     "output_type": "stream",
     "text": [
      "Prune disj layer\n",
      "Pruned disj count:   8\n",
      "New perf after disj: 0.997\n",
      "[[[ 330    0]\n",
      "  [  34 2136]]\n",
      "\n",
      " [[  95    0]\n",
      "  [   0 2405]]\n",
      "\n",
      " [[ 863    0]\n",
      "  [   0 1637]]]\n",
      "Prune conj layer\n",
      "Pruned conj count:   62\n",
      "New perf after disj: 0.994\n",
      "[[[ 330    0]\n",
      "  [   0 2170]]\n",
      "\n",
      " [[  95    0]\n",
      "  [  80 2325]]\n",
      "\n",
      " [[ 863    0]\n",
      "  [   0 1637]]]\n"
     ]
    }
   ],
   "source": [
    "prune_epsilon = 0.005\n",
    "print('Prune disj layer')\n",
    "prune_count = prune_layer_weight(model, SemiSymbolicLayerType.DISJUNCTION, \n",
    "    prune_epsilon, val_loader)\n",
    "\n",
    "for x, y in test_loader:\n",
    "    with torch.no_grad():\n",
    "        y_hat = (torch.tanh(model(x.float())) + 1) / 2\n",
    "        y_pred = torch.where(y_hat > 0.5, 1, 0)\n",
    "        macro_f1 = f1_score(y, y_pred, average='macro')\n",
    "\n",
    "print(f'Pruned disj count:   {prune_count}')\n",
    "print(f'New perf after disj: {macro_f1:.3f}')\n",
    "print(multilabel_confusion_matrix(y, y_pred))\n",
    "\n",
    "print('Prune conj layer')\n",
    "prune_count = prune_layer_weight(model, SemiSymbolicLayerType.CONJUNCTION, \n",
    "    prune_epsilon, val_loader)\n",
    "correct = 0\n",
    "total = 0\n",
    "\n",
    "for x, y in test_loader:\n",
    "    with torch.no_grad():\n",
    "        y_hat = (torch.tanh(model(x.float())) + 1) / 2\n",
    "        y_pred = torch.where(y_hat > 0.5, 1, 0)\n",
    "        macro_f1 = f1_score(y, y_pred, average='macro')\n",
    "\n",
    "print(f'Pruned conj count:   {prune_count}')\n",
    "print(f'New perf after disj: {macro_f1:.3f}')\n",
    "print(multilabel_confusion_matrix(y, y_pred))"
   ]
  },
  {
   "cell_type": "code",
   "execution_count": 16,
   "metadata": {},
   "outputs": [
    {
     "name": "stdout",
     "output_type": "stream",
     "text": [
      "Pref:    0.994\n"
     ]
    }
   ],
   "source": [
    "for x, y in test_loader:\n",
    "    with torch.no_grad():\n",
    "        y_hat = (torch.tanh(model(x.float())) + 1) / 2\n",
    "        y_pred = torch.where(y_hat > 0.5, 1, 0)\n",
    "        macro_f1 = f1_score(y, y_pred, average='macro')\n",
    "print(f'Pref:    {macro_f1:.3f}')"
   ]
  },
  {
   "cell_type": "code",
   "execution_count": 17,
   "metadata": {},
   "outputs": [],
   "source": [
    "pre_threshold_sd = model.state_dict()"
   ]
  },
  {
   "cell_type": "code",
   "execution_count": 18,
   "metadata": {},
   "outputs": [],
   "source": [
    "def apply_threshold(\n",
    "    model, og_conj_weight, og_disj_weight, t_val, const: float = 6.0,\n",
    ") -> None:\n",
    "    new_conj_weight = (\n",
    "        (torch.abs(og_conj_weight) > t_val) * torch.sign(og_conj_weight) * const\n",
    "    )\n",
    "    model.dnf.conjunctions.weights.data = new_conj_weight\n",
    "\n",
    "    new_disj_weight = (\n",
    "        (torch.abs(og_disj_weight) > t_val) * torch.sign(og_disj_weight) * const\n",
    "    )\n",
    "    model.dnf.disjunctions.weights.data = new_disj_weight"
   ]
  },
  {
   "cell_type": "code",
   "execution_count": 19,
   "metadata": {},
   "outputs": [],
   "source": [
    "conj_min = torch.min(model.dnf.conjunctions.weights.data)\n",
    "conj_max = torch.max(model.dnf.conjunctions.weights.data)\n",
    "disj_min = torch.min(model.dnf.disjunctions.weights.data)\n",
    "disj_max = torch.max(model.dnf.disjunctions.weights.data)\n",
    "\n",
    "abs_max = torch.max(torch.abs(torch.Tensor([conj_min, conj_max, disj_min, disj_max])))\n",
    "\n",
    "og_conj_weight = model.dnf.conjunctions.weights.data.clone()\n",
    "og_disj_weight = model.dnf.disjunctions.weights.data.clone()\n",
    "\n",
    "t_vals = torch.arange(0, abs_max + 0.01, 0.01)"
   ]
  },
  {
   "cell_type": "code",
   "execution_count": 20,
   "metadata": {},
   "outputs": [
    {
     "name": "stdout",
     "output_type": "stream",
     "text": [
      "Best t: 0.340    Macro f1: 0.992\n"
     ]
    }
   ],
   "source": [
    "# model.load_state_dict(pre_threshold_sd)\n",
    "acc_scores = []\n",
    "for v in t_vals:\n",
    "    apply_threshold(model, og_conj_weight, og_disj_weight,\n",
    "                              v, 6.0)\n",
    "    for x, y in val_loader:\n",
    "        with torch.no_grad():\n",
    "            y_hat = torch.tanh(model(x.float()))\n",
    "            y_pred = torch.where(y_hat > 0, 1, 0)\n",
    "            macro_f1 = f1_score(y, y_pred, average='macro')\n",
    "    acc_scores.append(macro_f1)\n",
    "\n",
    "best_acc_score = max(acc_scores)\n",
    "best_t = t_vals[torch.argmax(torch.Tensor(acc_scores))]\n",
    "print(f'Best t: {best_t.item():.3f}    Macro f1: {best_acc_score:.3f}')\n",
    "apply_threshold(model, og_conj_weight, og_disj_weight, best_t)"
   ]
  },
  {
   "cell_type": "code",
   "execution_count": 21,
   "metadata": {},
   "outputs": [
    {
     "name": "stdout",
     "output_type": "stream",
     "text": [
      "Test macro f1: 0.994\n"
     ]
    }
   ],
   "source": [
    "for x, y in test_loader:\n",
    "    with torch.no_grad():\n",
    "        y_hat = torch.tanh(model(x.float()))\n",
    "        y_pred = torch.where(y_hat > 0, 1, 0)\n",
    "        macro_f1 = f1_score(y, y_pred, average='macro')\n",
    "    print(f'Test macro f1: {macro_f1:.3f}')"
   ]
  },
  {
   "cell_type": "code",
   "execution_count": 22,
   "metadata": {},
   "outputs": [
    {
     "data": {
      "text/plain": [
       "array([[[ 330,    0],\n",
       "        [   0, 2170]],\n",
       "\n",
       "       [[   0,   95],\n",
       "        [   0, 2405]],\n",
       "\n",
       "       [[ 863,    0],\n",
       "        [   0, 1637]]])"
      ]
     },
     "execution_count": 22,
     "metadata": {},
     "output_type": "execute_result"
    }
   ],
   "source": [
    "multilabel_confusion_matrix(y, y_pred)"
   ]
  },
  {
   "cell_type": "code",
   "execution_count": 23,
   "metadata": {},
   "outputs": [],
   "source": [
    "final_sd = model.state_dict()\n",
    "\n",
    "output_rules = []\n",
    "\n",
    "# Get all conjunctions\n",
    "conj_w = final_sd[\"dnf.conjunctions.weights\"]\n",
    "conjunction_map = dict()\n",
    "for i, w in enumerate(conj_w):\n",
    "    if torch.all(w == 0):\n",
    "        # No conjunction is applied here\n",
    "        continue\n",
    "\n",
    "    conjuncts = []\n",
    "    for j, v in enumerate(w):\n",
    "        if v < 0:\n",
    "            # Negative weight, negate the atom\n",
    "            conjuncts.append(f\"not a{j}\")\n",
    "        elif v > 0:\n",
    "            # Positive weight, normal atom\n",
    "            conjuncts.append(f\"a{j}\")\n",
    "\n",
    "    conjunction_map[i] = conjuncts\n",
    "\n",
    "# Get DNF\n",
    "disj_w = final_sd[\"dnf.disjunctions.weights\"]\n",
    "not_covered_classes = []\n",
    "for i, w in enumerate(disj_w):\n",
    "    if torch.all(w == 0):\n",
    "        # No DNF for class i\n",
    "        not_covered_classes.append(i)\n",
    "        continue\n",
    "\n",
    "    disjuncts = []\n",
    "    for j, v in enumerate(w):\n",
    "        if v < 0 and j in conjunction_map:\n",
    "            # Negative weight, negate the existing conjunction\n",
    "            \n",
    "            # Need to add auxilary predicate (conj_X) which is not yet\n",
    "            # in the final rules list\n",
    "            output_rules.append(\n",
    "                f\"c{j} :- {', '.join(conjunction_map[j])}.\"\n",
    "            )\n",
    "            output_rules.append(f\"l{i} :- not c{j}.\")\n",
    "        elif v > 0 and j in conjunction_map:\n",
    "            # Postivie weight, add normal conjunction\n",
    "            body = \", \".join(conjunction_map[j])\n",
    "            output_rules.append(f\"l{i} :- {body}.\")"
   ]
  },
  {
   "cell_type": "code",
   "execution_count": 24,
   "metadata": {},
   "outputs": [
    {
     "data": {
      "text/plain": [
       "OrderedDict([('dnf.conjunctions.weights',\n",
       "              tensor([[ 0.,  0.,  0.,  0.,  0.,  0.,  0.,  0.,  0.,  0.,  0.,  0.,  0.,  0.,\n",
       "                        0.],\n",
       "                      [ 6.,  0.,  6.,  0.,  0.,  0.,  0.,  0.,  0.,  0.,  0.,  0.,  0.,  0.,\n",
       "                        0.],\n",
       "                      [ 0.,  0.,  0.,  0.,  0.,  0.,  0.,  0.,  0., -6.,  0., -6.,  0.,  0.,\n",
       "                        0.],\n",
       "                      [ 0.,  0.,  0.,  0.,  0.,  0.,  0.,  0.,  0.,  0.,  0.,  0., -6.,  6.,\n",
       "                        6.],\n",
       "                      [ 0.,  0.,  0.,  0.,  0.,  0.,  0.,  0.,  0.,  6.,  0.,  0.,  0.,  0.,\n",
       "                       -0.]])),\n",
       "             ('dnf.disjunctions.weights',\n",
       "              tensor([[ 0.,  0.,  6.,  6.,  0.],\n",
       "                      [ 0.,  6., -6.,  6., -6.],\n",
       "                      [ 0.,  6.,  0.,  0.,  0.]]))])"
      ]
     },
     "execution_count": 24,
     "metadata": {},
     "output_type": "execute_result"
    }
   ],
   "source": [
    "final_sd"
   ]
  },
  {
   "cell_type": "code",
   "execution_count": 25,
   "metadata": {},
   "outputs": [
    {
     "data": {
      "text/plain": [
       "['l0 :- not a9, not a11.',\n",
       " 'l0 :- not a12, a13, a14.',\n",
       " 'l1 :- a0, a2.',\n",
       " 'c2 :- not a9, not a11.',\n",
       " 'l1 :- not c2.',\n",
       " 'l1 :- not a12, a13, a14.',\n",
       " 'c4 :- a9.',\n",
       " 'l1 :- not c4.',\n",
       " 'l2 :- a0, a2.']"
      ]
     },
     "execution_count": 25,
     "metadata": {},
     "output_type": "execute_result"
    }
   ],
   "source": [
    "output_rules"
   ]
  },
  {
   "cell_type": "code",
   "execution_count": 26,
   "metadata": {},
   "outputs": [
    {
     "name": "stdout",
     "output_type": "stream",
     "text": [
      "0.9004543090242665\n",
      "[[[   0  330]\n",
      "  [   0 2170]]\n",
      "\n",
      " [[   0   95]\n",
      "  [   0 2405]]\n",
      "\n",
      " [[   0  863]\n",
      "  [   0 1637]]]\n"
     ]
    }
   ],
   "source": [
    "show_statements = [f'#show l{i}/0.' for i in range(3)]\n",
    "\n",
    "\n",
    "y_pred_batch = []\n",
    "\n",
    "for x_batch, y_batch in test_loader:\n",
    "    for i in range(len(x_batch)):\n",
    "        x = x_batch[i]\n",
    "        y = y_batch[i]\n",
    "        x_asp = [f\"a{j}.\" for j in range(len(x)) if x[j] == 1]\n",
    "        ctl = clingo.Control([\"--warn=none\"])\n",
    "        ctl.add(\"base\", [], \" \".join(x_asp + output_rules + show_statements))\n",
    "        ctl.ground([(\"base\", [])])\n",
    "        sh = ctl.solve(yield_=True)\n",
    "        if str(sh.model()) == '':\n",
    "            prend_one_hot = torch.zeros(y.shape)\n",
    "        else:\n",
    "            pred_classes = [int(m[1:]) for m in str(sh.model()).split(' ')]\n",
    "            pred_one_hot = torch.ones(y.shape)\n",
    "            pred_one_hot[pred_classes] = 1\n",
    "        y_pred_batch.append(pred_one_hot)\n",
    "    y_pred = torch.cat(y_pred_batch).reshape(-1, 3)\n",
    "    macro_f1 = f1_score(y_batch, y_pred, average='macro')\n",
    "    print(macro_f1)\n",
    "    print(multilabel_confusion_matrix(y_batch, y_pred))"
   ]
  },
  {
   "cell_type": "code",
   "execution_count": 27,
   "metadata": {},
   "outputs": [
    {
     "data": {
      "text/plain": [
       "array(['c0 :- a0, a2.', 'c1 :- not a3, not a4, not a5.',\n",
       "       'c2 :- a6, a7, a8.', 'c3 :- not a9, not a11.',\n",
       "       'c4 :- not a12, a13, a14.', 'l0 :- c3.', 'l0 :- c4.', 'l1 :- c0.',\n",
       "       'l1 :- c1.', 'l1 :- c4.', 'l2 :- c0.'], dtype='<U29')"
      ]
     },
     "execution_count": 27,
     "metadata": {},
     "output_type": "execute_result"
    }
   ],
   "source": [
    "dnpz['rule_str']"
   ]
  },
  {
   "cell_type": "code",
   "execution_count": null,
   "metadata": {},
   "outputs": [],
   "source": []
  }
 ],
 "metadata": {
  "kernelspec": {
   "display_name": "Python 3.8.10 ('venv')",
   "language": "python",
   "name": "python3"
  },
  "language_info": {
   "codemirror_mode": {
    "name": "ipython",
    "version": 3
   },
   "file_extension": ".py",
   "mimetype": "text/x-python",
   "name": "python",
   "nbconvert_exporter": "python",
   "pygments_lexer": "ipython3",
   "version": "3.8.10"
  },
  "orig_nbformat": 4,
  "vscode": {
   "interpreter": {
    "hash": "60f4e6e0934b482f46ff6ff5ba65bfe0692fda7391c7ef62ded80b7f64a3508e"
   }
  }
 },
 "nbformat": 4,
 "nbformat_minor": 2
}
