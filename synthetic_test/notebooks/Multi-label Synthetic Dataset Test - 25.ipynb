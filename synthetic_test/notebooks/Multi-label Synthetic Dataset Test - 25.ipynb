{
 "cells": [
  {
   "cell_type": "code",
   "execution_count": 1,
   "metadata": {},
   "outputs": [],
   "source": [
    "import re\n",
    "import sys\n",
    "\n",
    "sys.path.append('..')\n",
    "sys.path.append('../..')"
   ]
  },
  {
   "cell_type": "code",
   "execution_count": 2,
   "metadata": {},
   "outputs": [],
   "source": [
    "import clingo\n",
    "import numpy as np\n",
    "from sklearn.model_selection import train_test_split\n",
    "from sklearn.metrics import (\n",
    "    multilabel_confusion_matrix,\n",
    "    precision_recall_fscore_support,\n",
    "    f1_score,\n",
    ")\n",
    " \n",
    "import torch\n",
    "from torch.utils.data import DataLoader"
   ]
  },
  {
   "cell_type": "code",
   "execution_count": 3,
   "metadata": {},
   "outputs": [],
   "source": [
    "from dnf_layer import SemiSymbolicLayerType\n",
    "from rule_learner import DNFClassifier\n",
    "from test_common import SyntheticDataset\n",
    "from utils import DeltaDelayedExponentialDecayScheduler\n",
    "from dnf_post_train import (\n",
    "    remove_unused_conjunctions,\n",
    "    remove_disjunctions_when_empty_conjunctions,\n",
    "    apply_threshold,\n",
    "    extract_asp_rules,\n",
    ")"
   ]
  },
  {
   "cell_type": "code",
   "execution_count": 4,
   "metadata": {},
   "outputs": [],
   "source": [
    "RNG_SEED = 73\n",
    "BATCH_SIZE = 256\n",
    "NUM_EPOCHS = 100\n",
    "\n",
    "NUM_IN = 150\n",
    "NUM_CONJ = 75\n",
    "NUM_LABELS = 25\n",
    "\n",
    "# Generate dataset with `multi_label_syn_data_gen.py` first\n",
    "SYNTH_DATA_PATH = f'synth_multi_label_data_in{NUM_IN}_conj{NUM_CONJ}_label{NUM_LABELS}.npz'"
   ]
  },
  {
   "cell_type": "code",
   "execution_count": 5,
   "metadata": {},
   "outputs": [],
   "source": [
    "torch.manual_seed(RNG_SEED)\n",
    "np.random.seed(RNG_SEED)"
   ]
  },
  {
   "cell_type": "code",
   "execution_count": 6,
   "metadata": {},
   "outputs": [],
   "source": [
    "dnpz = np.load(SYNTH_DATA_PATH)\n",
    "full_nullary = dnpz['nullary']\n",
    "full_target = dnpz['target']"
   ]
  },
  {
   "cell_type": "code",
   "execution_count": 7,
   "metadata": {},
   "outputs": [],
   "source": [
    "nullary_full_train, nullary_test, target_full_train, target_test = train_test_split(\n",
    "    full_nullary, full_target, random_state=RNG_SEED)\n",
    "nullary_train, nullary_val, target_train, target_val = train_test_split(\n",
    "    nullary_full_train, target_full_train, test_size=0.2, random_state=RNG_SEED\n",
    ")\n",
    "\n",
    "train_loader = DataLoader(SyntheticDataset(nullary_train, target_train), BATCH_SIZE)\n",
    "val_dataset = SyntheticDataset(nullary_val, target_val)\n",
    "val_loader = DataLoader(val_dataset, len(val_dataset)) # Load everything in 1 val loader\n",
    "test_dataset = SyntheticDataset(nullary_test, target_test)\n",
    "test_loader = DataLoader(test_dataset, len(test_dataset)) # Load everything in 1 test loader"
   ]
  },
  {
   "cell_type": "code",
   "execution_count": 8,
   "metadata": {},
   "outputs": [],
   "source": [
    "model = DNFClassifier(NUM_IN, NUM_CONJ, NUM_LABELS, 0.1)\n",
    "delta_decay_scheduler = DeltaDelayedExponentialDecayScheduler(\n",
    "    initial_delta=0.1,\n",
    "    delta_decay_delay=10,\n",
    "    delta_decay_steps=1,\n",
    "    delta_decay_rate=1.1,\n",
    ")\n",
    "optimiser = torch.optim.Adam(model.parameters(), 0.001)\n",
    "criterion = torch.nn.BCEWithLogitsLoss()"
   ]
  },
  {
   "cell_type": "markdown",
   "metadata": {},
   "source": [
    "# Training"
   ]
  },
  {
   "cell_type": "code",
   "execution_count": 9,
   "metadata": {},
   "outputs": [
    {
     "name": "stdout",
     "output_type": "stream",
     "text": [
      "[  1] Delta: 0.100  Train avg loss: 0.699  Val macro f1: 0.487\n",
      "[  2] Delta: 0.100  Train avg loss: 0.588  Val macro f1: 0.431\n",
      "[  3] Delta: 0.100  Train avg loss: 0.545  Val macro f1: 0.436\n",
      "[  4] Delta: 0.100  Train avg loss: 0.515  Val macro f1: 0.468\n",
      "[  5] Delta: 0.100  Train avg loss: 0.486  Val macro f1: 0.509\n",
      "[  6] Delta: 0.100  Train avg loss: 0.457  Val macro f1: 0.563\n",
      "[  7] Delta: 0.100  Train avg loss: 0.426  Val macro f1: 0.623\n",
      "[  8] Delta: 0.100  Train avg loss: 0.396  Val macro f1: 0.686\n",
      "[  9] Delta: 0.100  Train avg loss: 0.367  Val macro f1: 0.745\n",
      "[ 10] Delta: 0.100  Train avg loss: 0.339  Val macro f1: 0.793\n",
      "[ 11] Delta: 0.100  Train avg loss: 0.313  Val macro f1: 0.832\n",
      "[ 12] Delta: 0.110  Train avg loss: 0.290  Val macro f1: 0.866\n",
      "[ 13] Delta: 0.121  Train avg loss: 0.274  Val macro f1: 0.882\n",
      "[ 14] Delta: 0.133  Train avg loss: 0.262  Val macro f1: 0.899\n",
      "[ 15] Delta: 0.146  Train avg loss: 0.252  Val macro f1: 0.911\n",
      "[ 16] Delta: 0.161  Train avg loss: 0.245  Val macro f1: 0.918\n",
      "[ 17] Delta: 0.177  Train avg loss: 0.240  Val macro f1: 0.922\n",
      "[ 18] Delta: 0.195  Train avg loss: 0.238  Val macro f1: 0.922\n",
      "[ 19] Delta: 0.214  Train avg loss: 0.237  Val macro f1: 0.922\n",
      "[ 20] Delta: 0.236  Train avg loss: 0.239  Val macro f1: 0.920\n",
      "[ 21] Delta: 0.259  Train avg loss: 0.242  Val macro f1: 0.917\n",
      "[ 22] Delta: 0.285  Train avg loss: 0.247  Val macro f1: 0.912\n",
      "[ 23] Delta: 0.314  Train avg loss: 0.253  Val macro f1: 0.907\n",
      "[ 24] Delta: 0.345  Train avg loss: 0.260  Val macro f1: 0.899\n",
      "[ 25] Delta: 0.380  Train avg loss: 0.268  Val macro f1: 0.892\n",
      "[ 26] Delta: 0.418  Train avg loss: 0.276  Val macro f1: 0.885\n",
      "[ 27] Delta: 0.459  Train avg loss: 0.285  Val macro f1: 0.878\n",
      "[ 28] Delta: 0.505  Train avg loss: 0.294  Val macro f1: 0.870\n",
      "[ 29] Delta: 0.556  Train avg loss: 0.304  Val macro f1: 0.862\n",
      "[ 30] Delta: 0.612  Train avg loss: 0.316  Val macro f1: 0.853\n",
      "[ 31] Delta: 0.673  Train avg loss: 0.331  Val macro f1: 0.844\n",
      "[ 32] Delta: 0.740  Train avg loss: 0.350  Val macro f1: 0.832\n",
      "[ 33] Delta: 0.814  Train avg loss: 0.375  Val macro f1: 0.814\n",
      "[ 34] Delta: 0.895  Train avg loss: 0.412  Val macro f1: 0.791\n",
      "[ 35] Delta: 0.985  Train avg loss: 0.470  Val macro f1: 0.744\n",
      "[ 36] Delta: 1.000  Train avg loss: 0.570  Val macro f1: 0.603\n",
      "[ 37] Delta: 1.000  Train avg loss: 0.523  Val macro f1: 0.719\n",
      "[ 38] Delta: 1.000  Train avg loss: 0.487  Val macro f1: 0.764\n",
      "[ 39] Delta: 1.000  Train avg loss: 0.465  Val macro f1: 0.789\n",
      "[ 40] Delta: 1.000  Train avg loss: 0.447  Val macro f1: 0.812\n",
      "[ 41] Delta: 1.000  Train avg loss: 0.432  Val macro f1: 0.829\n",
      "[ 42] Delta: 1.000  Train avg loss: 0.417  Val macro f1: 0.843\n",
      "[ 43] Delta: 1.000  Train avg loss: 0.403  Val macro f1: 0.857\n",
      "[ 44] Delta: 1.000  Train avg loss: 0.390  Val macro f1: 0.867\n",
      "[ 45] Delta: 1.000  Train avg loss: 0.378  Val macro f1: 0.876\n",
      "[ 46] Delta: 1.000  Train avg loss: 0.366  Val macro f1: 0.884\n",
      "[ 47] Delta: 1.000  Train avg loss: 0.355  Val macro f1: 0.892\n",
      "[ 48] Delta: 1.000  Train avg loss: 0.345  Val macro f1: 0.899\n",
      "[ 49] Delta: 1.000  Train avg loss: 0.335  Val macro f1: 0.907\n",
      "[ 50] Delta: 1.000  Train avg loss: 0.326  Val macro f1: 0.912\n",
      "[ 51] Delta: 1.000  Train avg loss: 0.317  Val macro f1: 0.917\n",
      "[ 52] Delta: 1.000  Train avg loss: 0.308  Val macro f1: 0.921\n",
      "[ 53] Delta: 1.000  Train avg loss: 0.300  Val macro f1: 0.926\n",
      "[ 54] Delta: 1.000  Train avg loss: 0.292  Val macro f1: 0.929\n",
      "[ 55] Delta: 1.000  Train avg loss: 0.284  Val macro f1: 0.933\n",
      "[ 56] Delta: 1.000  Train avg loss: 0.277  Val macro f1: 0.936\n",
      "[ 57] Delta: 1.000  Train avg loss: 0.270  Val macro f1: 0.939\n",
      "[ 58] Delta: 1.000  Train avg loss: 0.263  Val macro f1: 0.942\n",
      "[ 59] Delta: 1.000  Train avg loss: 0.256  Val macro f1: 0.945\n",
      "[ 60] Delta: 1.000  Train avg loss: 0.250  Val macro f1: 0.948\n",
      "[ 61] Delta: 1.000  Train avg loss: 0.244  Val macro f1: 0.952\n",
      "[ 62] Delta: 1.000  Train avg loss: 0.238  Val macro f1: 0.954\n",
      "[ 63] Delta: 1.000  Train avg loss: 0.232  Val macro f1: 0.957\n",
      "[ 64] Delta: 1.000  Train avg loss: 0.226  Val macro f1: 0.959\n",
      "[ 65] Delta: 1.000  Train avg loss: 0.221  Val macro f1: 0.960\n",
      "[ 66] Delta: 1.000  Train avg loss: 0.216  Val macro f1: 0.962\n",
      "[ 67] Delta: 1.000  Train avg loss: 0.211  Val macro f1: 0.963\n",
      "[ 68] Delta: 1.000  Train avg loss: 0.206  Val macro f1: 0.964\n",
      "[ 69] Delta: 1.000  Train avg loss: 0.202  Val macro f1: 0.965\n",
      "[ 70] Delta: 1.000  Train avg loss: 0.197  Val macro f1: 0.966\n",
      "[ 71] Delta: 1.000  Train avg loss: 0.192  Val macro f1: 0.968\n",
      "[ 72] Delta: 1.000  Train avg loss: 0.188  Val macro f1: 0.970\n",
      "[ 73] Delta: 1.000  Train avg loss: 0.184  Val macro f1: 0.971\n",
      "[ 74] Delta: 1.000  Train avg loss: 0.180  Val macro f1: 0.972\n",
      "[ 75] Delta: 1.000  Train avg loss: 0.176  Val macro f1: 0.972\n",
      "[ 76] Delta: 1.000  Train avg loss: 0.172  Val macro f1: 0.973\n",
      "[ 77] Delta: 1.000  Train avg loss: 0.168  Val macro f1: 0.974\n",
      "[ 78] Delta: 1.000  Train avg loss: 0.165  Val macro f1: 0.975\n",
      "[ 79] Delta: 1.000  Train avg loss: 0.162  Val macro f1: 0.975\n",
      "[ 80] Delta: 1.000  Train avg loss: 0.158  Val macro f1: 0.976\n",
      "[ 81] Delta: 1.000  Train avg loss: 0.155  Val macro f1: 0.976\n",
      "[ 82] Delta: 1.000  Train avg loss: 0.152  Val macro f1: 0.977\n",
      "[ 83] Delta: 1.000  Train avg loss: 0.149  Val macro f1: 0.977\n",
      "[ 84] Delta: 1.000  Train avg loss: 0.146  Val macro f1: 0.978\n",
      "[ 85] Delta: 1.000  Train avg loss: 0.144  Val macro f1: 0.978\n",
      "[ 86] Delta: 1.000  Train avg loss: 0.141  Val macro f1: 0.979\n",
      "[ 87] Delta: 1.000  Train avg loss: 0.138  Val macro f1: 0.979\n",
      "[ 88] Delta: 1.000  Train avg loss: 0.136  Val macro f1: 0.980\n",
      "[ 89] Delta: 1.000  Train avg loss: 0.133  Val macro f1: 0.980\n",
      "[ 90] Delta: 1.000  Train avg loss: 0.131  Val macro f1: 0.981\n",
      "[ 91] Delta: 1.000  Train avg loss: 0.129  Val macro f1: 0.982\n",
      "[ 92] Delta: 1.000  Train avg loss: 0.126  Val macro f1: 0.982\n",
      "[ 93] Delta: 1.000  Train avg loss: 0.124  Val macro f1: 0.983\n",
      "[ 94] Delta: 1.000  Train avg loss: 0.122  Val macro f1: 0.983\n",
      "[ 95] Delta: 1.000  Train avg loss: 0.119  Val macro f1: 0.984\n",
      "[ 96] Delta: 1.000  Train avg loss: 0.117  Val macro f1: 0.984\n",
      "[ 97] Delta: 1.000  Train avg loss: 0.115  Val macro f1: 0.984\n",
      "[ 98] Delta: 1.000  Train avg loss: 0.113  Val macro f1: 0.985\n",
      "[ 99] Delta: 1.000  Train avg loss: 0.111  Val macro f1: 0.985\n",
      "[100] Delta: 1.000  Train avg loss: 0.109  Val macro f1: 0.986\n"
     ]
    }
   ],
   "source": [
    "for i in range(NUM_EPOCHS):\n",
    "    model.train()\n",
    "    epoch_loss = []\n",
    "    for x_train, y_train in train_loader:\n",
    "        optimiser.zero_grad()\n",
    "        y_hat = model(x_train.float())\n",
    "        loss = criterion(y_hat.squeeze(), (y_train == 1).float() )\n",
    "        loss.backward()\n",
    "        optimiser.step()\n",
    "\n",
    "        epoch_loss.append(loss.item())\n",
    "    \n",
    "    model.eval()\n",
    "    macro_f1 = None\n",
    "\n",
    "    for x_val, y_val in val_loader:\n",
    "        with torch.no_grad():\n",
    "            y_hat = torch.sigmoid(model(x_val.float()))\n",
    "            y_pred = torch.where(y_hat > 0.5, 1, 0)\n",
    "            macro_f1 = f1_score(y_val, y_pred, average='macro', zero_division=0)\n",
    "\n",
    "    new_delta_val = delta_decay_scheduler.step(model, i)\n",
    "    avg_loss = sum(epoch_loss) / len(epoch_loss)\n",
    "    print(f'[{i + 1:3d}] Delta: {new_delta_val:.3f}  '\n",
    "          f'Train avg loss: {avg_loss:.3f}  '\n",
    "          f'Val macro f1: {macro_f1:.3f}')"
   ]
  },
  {
   "cell_type": "code",
   "execution_count": 10,
   "metadata": {},
   "outputs": [
    {
     "name": "stdout",
     "output_type": "stream",
     "text": [
      "Test macro F1: 0.987\n",
      "\n"
     ]
    }
   ],
   "source": [
    "for x, y in test_loader:\n",
    "    with torch.no_grad():\n",
    "        y_hat = (torch.tanh(model(x.float())) + 1) / 2\n",
    "        y_pred = torch.where(y_hat > 0.5, 1, 0)\n",
    "        macro_f1 = f1_score(y, y_pred, average='macro')\n",
    "print(f'Test macro F1: {macro_f1:.3f}')\n",
    "print()\n",
    "# print(multilabel_confusion_matrix(y, y_pred))"
   ]
  },
  {
   "cell_type": "code",
   "execution_count": 11,
   "metadata": {},
   "outputs": [],
   "source": [
    "torch.save(model.state_dict(), f'multi_label_dnf_synth_{RNG_SEED}.pth')"
   ]
  },
  {
   "cell_type": "code",
   "execution_count": 12,
   "metadata": {},
   "outputs": [],
   "source": [
    "# sd = torch.load(f'multi_label_dnf_synth_{RNG_SEED}.pth')\n",
    "# model.load_state_dict(sd)"
   ]
  },
  {
   "cell_type": "markdown",
   "metadata": {},
   "source": [
    "# Post Training Process"
   ]
  },
  {
   "cell_type": "code",
   "execution_count": 13,
   "metadata": {},
   "outputs": [],
   "source": [
    "def prune_layer_weight(\n",
    "    model,\n",
    "    layer_type: SemiSymbolicLayerType,\n",
    "    epsilon: float,\n",
    "    data_loader: DataLoader, # This should be val loader\n",
    ") -> int:\n",
    "    if layer_type == SemiSymbolicLayerType.CONJUNCTION:\n",
    "        curr_weight = model.dnf.conjunctions.weights.data.clone()\n",
    "    else:\n",
    "        curr_weight = model.dnf.disjunctions.weights.data.clone()\n",
    "\n",
    "    for x, y in data_loader:\n",
    "        with torch.no_grad():\n",
    "            # Assuming val loader (only 1 batch)\n",
    "            y_hat = (torch.tanh(model(x.float())) + 1) / 2\n",
    "            y_pred = torch.where(y_hat > 0.5, 1, 0)\n",
    "            og_macro_f1 = f1_score(y, y_pred, average='macro')\n",
    "\n",
    "    prune_count = 0\n",
    "    weight_device = curr_weight.device\n",
    "\n",
    "    flatten_weight_len = len(torch.reshape(curr_weight, (-1,)))\n",
    "    base_iterator = range(flatten_weight_len)\n",
    "    for i in base_iterator:\n",
    "        curr_weight_flatten = torch.reshape(curr_weight, (-1,))\n",
    "\n",
    "        if curr_weight_flatten[i] == 0:\n",
    "            continue\n",
    "\n",
    "        mask = torch.ones(flatten_weight_len, device=weight_device)\n",
    "        mask[i] = 0\n",
    "        mask = mask.reshape(curr_weight.shape)\n",
    "\n",
    "        masked_weight = curr_weight * mask\n",
    "\n",
    "        if layer_type == SemiSymbolicLayerType.CONJUNCTION:\n",
    "            model.dnf.conjunctions.weights.data = masked_weight\n",
    "        else:\n",
    "            model.dnf.disjunctions.weights.data = masked_weight\n",
    "\n",
    "        for x, y in data_loader:\n",
    "            with torch.no_grad():\n",
    "                y_hat = (torch.tanh(model(x.float())) + 1) / 2\n",
    "                y_pred = torch.where(y_hat > 0.5, 1, 0)\n",
    "                new_macro_f1 = f1_score(y, y_pred, average='macro')\n",
    "\n",
    "        performance_drop = og_macro_f1 - new_macro_f1\n",
    "        if performance_drop < epsilon:\n",
    "            prune_count += 1\n",
    "            curr_weight *= mask\n",
    "\n",
    "    if layer_type == SemiSymbolicLayerType.CONJUNCTION:\n",
    "        model.dnf.conjunctions.weights.data = curr_weight\n",
    "    else:\n",
    "        model.dnf.disjunctions.weights.data = curr_weight\n",
    "    return prune_count"
   ]
  },
  {
   "cell_type": "code",
   "execution_count": 14,
   "metadata": {},
   "outputs": [
    {
     "name": "stdout",
     "output_type": "stream",
     "text": [
      "Prune disj layer\n",
      "Pruned disj count:        1815\n",
      "New test perf after disj: 0.981\n",
      "\n",
      "Remove unused conjunctions: 33\n",
      "\n",
      "Prune conj layer\n",
      "Pruned conj count:        5843\n",
      "New test perf after disj: 0.976\n",
      "\n",
      "Remove disjunction that uses empty conjunctions: 900\n",
      "\n",
      "Prune disj layer again\n",
      "Pruned disj count:        24\n",
      "New test perf after disj: 0.975\n",
      "\n"
     ]
    }
   ],
   "source": [
    "prune_epsilon = 0.005\n",
    "print('Prune disj layer')\n",
    "prune_count = prune_layer_weight(model, SemiSymbolicLayerType.DISJUNCTION,\n",
    "    prune_epsilon, val_loader)\n",
    "\n",
    "for x, y in test_loader:\n",
    "    with torch.no_grad():\n",
    "        y_hat = (torch.tanh(model(x.float())) + 1) / 2\n",
    "        y_pred = torch.where(y_hat > 0.5, 1, 0)\n",
    "        macro_f1 = f1_score(y, y_pred, average='macro')\n",
    "\n",
    "print(f'Pruned disj count:        {prune_count}')\n",
    "print(f'New test perf after disj: {macro_f1:.3f}')\n",
    "# print(multilabel_confusion_matrix(y, y_pred))\n",
    "print()\n",
    "\n",
    "unused_conj = remove_unused_conjunctions(model)\n",
    "print(f'Remove unused conjunctions: {unused_conj}')\n",
    "print()\n",
    "\n",
    "print('Prune conj layer')\n",
    "prune_count = prune_layer_weight(model, SemiSymbolicLayerType.CONJUNCTION, \n",
    "    prune_epsilon, val_loader)\n",
    "\n",
    "\n",
    "for x, y in test_loader:\n",
    "    with torch.no_grad():\n",
    "        y_hat = (torch.tanh(model(x.float())) + 1) / 2\n",
    "        y_pred = torch.where(y_hat > 0.5, 1, 0)\n",
    "        macro_f1 = f1_score(y, y_pred, average='macro')\n",
    "print(f'Pruned conj count:        {prune_count}')\n",
    "print(f'New test perf after disj: {macro_f1:.3f}')\n",
    "# print(multilabel_confusion_matrix(y, y_pred))\n",
    "print()\n",
    "\n",
    "removed_disj = remove_disjunctions_when_empty_conjunctions(model)\n",
    "print(\n",
    "    f'Remove disjunction that uses empty conjunctions: {removed_disj}'\n",
    ")\n",
    "print()\n",
    "\n",
    "print('Prune disj layer again')\n",
    "prune_count = prune_layer_weight(model, SemiSymbolicLayerType.DISJUNCTION,\n",
    "    prune_epsilon, val_loader)\n",
    "\n",
    "for x, y in test_loader:\n",
    "    with torch.no_grad():\n",
    "        y_hat = (torch.tanh(model(x.float())) + 1) / 2\n",
    "        y_pred = torch.where(y_hat > 0.5, 1, 0)\n",
    "        macro_f1 = f1_score(y, y_pred, average='macro')\n",
    "\n",
    "print(f'Pruned disj count:        {prune_count}')\n",
    "print(f'New test perf after disj: {macro_f1:.3f}')\n",
    "# print(multilabel_confusion_matrix(y, y_pred))\n",
    "print()"
   ]
  },
  {
   "cell_type": "code",
   "execution_count": 15,
   "metadata": {},
   "outputs": [
    {
     "name": "stdout",
     "output_type": "stream",
     "text": [
      "Prune procedure final f1:    0.975\n",
      "\n"
     ]
    }
   ],
   "source": [
    "for x, y in test_loader:\n",
    "    with torch.no_grad():\n",
    "        y_hat = (torch.tanh(model(x.float())) + 1) / 2\n",
    "        y_pred = torch.where(y_hat > 0.5, 1, 0)\n",
    "        macro_f1 = f1_score(y, y_pred, average='macro')\n",
    "print(f'Prune procedure final f1:    {macro_f1:.3f}')\n",
    "print()\n",
    "# print(multilabel_confusion_matrix(y, y_pred))"
   ]
  },
  {
   "cell_type": "code",
   "execution_count": 16,
   "metadata": {},
   "outputs": [],
   "source": [
    "# pre_threshold_sd = model.state_dict()\n",
    "conj_min = torch.min(model.dnf.conjunctions.weights.data)\n",
    "conj_max = torch.max(model.dnf.conjunctions.weights.data)\n",
    "disj_min = torch.min(model.dnf.disjunctions.weights.data)\n",
    "disj_max = torch.max(model.dnf.disjunctions.weights.data)\n",
    "\n",
    "abs_max = torch.max(torch.abs(torch.Tensor([conj_min, conj_max, disj_min, disj_max])))\n",
    "\n",
    "og_conj_weight = model.dnf.conjunctions.weights.data.clone()\n",
    "og_disj_weight = model.dnf.disjunctions.weights.data.clone()\n",
    "\n",
    "t_vals = torch.arange(0, abs_max + 0.01, 0.01)"
   ]
  },
  {
   "cell_type": "code",
   "execution_count": 17,
   "metadata": {},
   "outputs": [
    {
     "name": "stdout",
     "output_type": "stream",
     "text": [
      "Best t: 0.350    Macro f1: 0.962\n"
     ]
    }
   ],
   "source": [
    "# model.load_state_dict(pre_threshold_sd)\n",
    "acc_scores = []\n",
    "for v in t_vals:\n",
    "    apply_threshold(model, og_conj_weight, og_disj_weight,\n",
    "                              v, 6.0)\n",
    "    for x, y in val_loader:\n",
    "        with torch.no_grad():\n",
    "            y_hat = torch.tanh(model(x.float()))\n",
    "            y_pred = torch.where(y_hat > 0, 1, 0)\n",
    "            macro_f1 = f1_score(y, y_pred, average='macro')\n",
    "    acc_scores.append(macro_f1)\n",
    "\n",
    "best_acc_score = max(acc_scores)\n",
    "best_t = t_vals[torch.argmax(torch.Tensor(acc_scores))]\n",
    "print(f'Best t: {best_t.item():.3f}    Macro f1: {best_acc_score:.3f}')\n",
    "apply_threshold(model, og_conj_weight, og_disj_weight, best_t)"
   ]
  },
  {
   "cell_type": "code",
   "execution_count": 18,
   "metadata": {},
   "outputs": [
    {
     "name": "stdout",
     "output_type": "stream",
     "text": [
      "Test macro f1 after threshold: 0.963\n",
      "\n"
     ]
    }
   ],
   "source": [
    "for x, y in test_loader:\n",
    "    with torch.no_grad():\n",
    "        y_hat = torch.tanh(model(x.float()))\n",
    "        y_pred = torch.where(y_hat > 0, 1, 0)\n",
    "        macro_f1 = f1_score(y, y_pred, average='macro')\n",
    "    print(f'Test macro f1 after threshold: {macro_f1:.3f}')\n",
    "print()\n",
    "# print(multilabel_confusion_matrix(y, y_pred))"
   ]
  },
  {
   "cell_type": "code",
   "execution_count": 19,
   "metadata": {},
   "outputs": [
    {
     "name": "stdout",
     "output_type": "stream",
     "text": [
      "conj_0 :- has_attr_123.\n",
      "conj_2 :- not has_attr_39.\n",
      "conj_3 :- has_attr_49.\n",
      "conj_4 :- not has_attr_53.\n",
      "conj_6 :- not has_attr_110, not has_attr_111.\n",
      "conj_7 :- not has_attr_18, has_attr_19.\n",
      "conj_14 :- has_attr_90, has_attr_114.\n",
      "conj_21 :- not has_attr_134, has_attr_135.\n",
      "conj_22 :- has_attr_145, not has_attr_147.\n",
      "conj_25 :- has_attr_103.\n",
      "conj_30 :- has_attr_56, not has_attr_57.\n",
      "conj_31 :- has_attr_60, not has_attr_65.\n",
      "conj_32 :- not has_attr_53, has_attr_56.\n",
      "conj_34 :- has_attr_103, has_attr_114.\n",
      "conj_36 :- has_attr_114.\n",
      "conj_37 :- not has_attr_74, has_attr_75.\n",
      "conj_39 :- has_attr_80, has_attr_114.\n",
      "conj_40 :- not has_attr_48, has_attr_49, has_attr_123.\n",
      "conj_42 :- not has_attr_22, not has_attr_23.\n",
      "conj_43 :- has_attr_126, has_attr_127.\n",
      "conj_44 :- not has_attr_4, not has_attr_5.\n",
      "conj_46 :- has_attr_80, not has_attr_81.\n",
      "conj_53 :- not has_attr_40, has_attr_41.\n",
      "conj_56 :- not has_attr_27, has_attr_29.\n",
      "conj_57 :- has_attr_16, has_attr_17.\n",
      "conj_58 :- not has_attr_4, not has_attr_5, not has_attr_86.\n",
      "conj_59 :- has_attr_84, has_attr_85, not has_attr_86, has_attr_103.\n",
      "conj_60 :- has_attr_90, not has_attr_114.\n",
      "conj_62 :- not has_attr_86.\n",
      "conj_63 :- not has_attr_138, has_attr_139.\n",
      "conj_64 :- not has_attr_6, not has_attr_7, not has_attr_8, has_attr_9, has_attr_11.\n",
      "conj_66 :- has_attr_103, has_attr_123.\n",
      "conj_67 :- has_attr_31, has_attr_35.\n",
      "conj_68 :- not has_attr_96, not has_attr_97.\n",
      "conj_69 :- not has_attr_96, not has_attr_97, has_attr_103, has_attr_145.\n",
      "conj_70 :- has_attr_42, not has_attr_43.\n",
      "conj_72 :- has_attr_84, has_attr_85, not has_attr_103.\n",
      "conj_74 :- not has_attr_66, has_attr_67.\n",
      "label(0) :- conj_44.\n",
      "label(1) :- not conj_64.\n",
      "label(2) :- conj_57.\n",
      "label(3) :- conj_7.\n",
      "label(3) :- conj_42.\n",
      "label(4) :- not conj_56.\n",
      "label(5) :- not conj_67.\n",
      "label(6) :- conj_2.\n",
      "label(7) :- conj_70.\n",
      "label(8) :- conj_3.\n",
      "label(9) :- conj_30.\n",
      "label(10) :- not conj_31.\n",
      "label(11) :- conj_74.\n",
      "label(12) :- conj_37.\n",
      "label(13) :- conj_46.\n",
      "label(14) :- conj_36.\n",
      "label(14) :- conj_58.\n",
      "label(14) :- conj_59.\n",
      "label(14) :- conj_62.\n",
      "label(14) :- conj_72.\n",
      "label(15) :- conj_14.\n",
      "label(15) :- conj_60.\n",
      "label(16) :- conj_68.\n",
      "label(17) :- conj_25.\n",
      "label(18) :- conj_6.\n",
      "label(19) :- conj_14.\n",
      "label(19) :- conj_36.\n",
      "label(20) :- conj_0.\n",
      "label(21) :- conj_43.\n",
      "label(22) :- conj_21.\n",
      "label(23) :- conj_63.\n",
      "label(24) :- not conj_22.\n"
     ]
    }
   ],
   "source": [
    "output_rules = extract_asp_rules(model.state_dict())\n",
    "for r in output_rules:\n",
    "    print(r)"
   ]
  },
  {
   "cell_type": "code",
   "execution_count": 20,
   "metadata": {},
   "outputs": [
    {
     "name": "stdout",
     "output_type": "stream",
     "text": [
      "Rules F1 0.9634756277512571\n",
      "\n"
     ]
    }
   ],
   "source": [
    "show_statements = [f'#show label/1.']\n",
    "\n",
    "\n",
    "y_pred_batch = []\n",
    "\n",
    "for x_batch, y_batch in test_loader:\n",
    "    for i in range(len(x_batch)):\n",
    "        x = x_batch[i]\n",
    "        y = y_batch[i]\n",
    "        x_asp = [f\"has_attr_{j}.\" for j in range(len(x)) if x[j] == 1]\n",
    "        ctl = clingo.Control([\"--warn=none\"])\n",
    "        ctl.add(\"base\", [], \" \".join(x_asp + output_rules + show_statements))\n",
    "        ctl.ground([(\"base\", [])])\n",
    "        with ctl.solve(yield_=True) as handle:\n",
    "            asp_model = handle.model()\n",
    "        if not asp_model or str(asp_model) == \"\":\n",
    "            prediction_one_hot = torch.zeros(y.shape)\n",
    "        else:\n",
    "            # Find predicted all label\n",
    "            p = re.compile(r\"\\d+\")\n",
    "            predict_labels = [int(l) for l in p.findall(str(asp_model))]\n",
    "            prediction_one_hot = torch.zeros(y.shape)\n",
    "            prediction_one_hot[predict_labels] = 1\n",
    "        y_pred_batch.append(prediction_one_hot)\n",
    "    y_pred = torch.cat(y_pred_batch).reshape(-1, NUM_LABELS)\n",
    "    macro_f1 = f1_score(y_batch, y_pred, average='macro')\n",
    "    print(f'Rules F1 {macro_f1}')\n",
    "    print()\n",
    "    # print(multilabel_confusion_matrix(y_batch, y_pred))"
   ]
  },
  {
   "cell_type": "markdown",
   "metadata": {},
   "source": [
    "# Original Rules"
   ]
  },
  {
   "cell_type": "code",
   "execution_count": 21,
   "metadata": {},
   "outputs": [
    {
     "data": {
      "text/plain": [
       "array(['c0 :- a0.', 'c1 :- a2, not a3.', 'c2 :- not a4, not a5.',\n",
       "       'c3 :- a6, a7.', 'c4 :- a8, not a9.', 'c5 :- not a11.',\n",
       "       'c6 :- not a12, a13.', 'c7 :- a14, not a15.', 'c8 :- a16, a17.',\n",
       "       'c9 :- not a18, a19.', 'c10 :- not a20, not a21.',\n",
       "       'c11 :- not a22, not a23.', 'c12 :- a24.', 'c13 :- a27.',\n",
       "       'c14 :- not a29.', 'c15 :- not a31.', 'c16 :- a32, a33.',\n",
       "       'c17 :- not a35.', 'c18 :- not a36, a37.', 'c19 :- not a39.',\n",
       "       'c20 :- not a40, a41.', 'c21 :- a42, not a43.',\n",
       "       'c22 :- a44, not a45.', 'c23 :- a46, not a47.',\n",
       "       'c24 :- not a48, a49.', 'c25 :- not a50, a51.',\n",
       "       'c26 :- not a52, not a53.', 'c27 :- a55.', 'c28 :- a56, not a57.',\n",
       "       'c29 :- not a58.', 'c30 :- not a60.', 'c31 :- not a62, a63.',\n",
       "       'c32 :- a65.', 'c33 :- not a66, a67.', 'c34 :- not a68, not a69.',\n",
       "       'c35 :- a71.', 'c36 :- not a72, a73.', 'c37 :- not a74, a75.',\n",
       "       'c38 :- not a76.', 'c39 :- not a78, not a79.',\n",
       "       'c40 :- a80, not a81.', 'c41 :- not a83.', 'c42 :- a84, a85.',\n",
       "       'c43 :- not a86.', 'c44 :- a88, not a89.', 'c45 :- a90.',\n",
       "       'c46 :- not a92, a93.', 'c47 :- not a94, not a95.',\n",
       "       'c48 :- not a96, not a97.', 'c49 :- a98, not a99.',\n",
       "       'c50 :- not a101.', 'c51 :- a103.', 'c52 :- a104.',\n",
       "       'c53 :- not a106.', 'c54 :- not a108.',\n",
       "       'c55 :- not a110, not a111.', 'c56 :- a113.', 'c57 :- a114.',\n",
       "       'c58 :- not a116, not a117.', 'c59 :- not a118, a119.',\n",
       "       'c60 :- not a120, not a121.', 'c61 :- a123.', 'c62 :- a124.',\n",
       "       'c63 :- a126, a127.', 'c64 :- a128.', 'c65 :- a130, a131.',\n",
       "       'c66 :- a132.', 'c67 :- not a134, a135.', 'c68 :- a136, not a137.',\n",
       "       'c69 :- not a138, a139.', 'c70 :- a140.', 'c71 :- a142, a143.',\n",
       "       'c72 :- not a145.', 'c73 :- a147.', 'c74 :- a149.', 'l0 :- c2.',\n",
       "       'l1 :- c3.', 'l1 :- c4.', 'l1 :- c5.', 'l2 :- c8.', 'l3 :- c9.',\n",
       "       'l3 :- c11.', 'l4 :- c13.', 'l4 :- c14.', 'l5 :- c15.',\n",
       "       'l5 :- c17.', 'l6 :- c19.', 'l6 :- c20.', 'l7 :- c21.',\n",
       "       'l8 :- c24.', 'l8 :- c26.', 'l9 :- c28.', 'l10 :- c30.',\n",
       "       'l10 :- c32.', 'l11 :- c33.', 'l12 :- c37.', 'l13 :- c40.',\n",
       "       'l14 :- c42.', 'l14 :- c43.', 'l15 :- c45.', 'l15 :- c46.',\n",
       "       'l15 :- c47.', 'l16 :- c48.', 'l17 :- c51.', 'l18 :- c55.',\n",
       "       'l19 :- c57.', 'l20 :- c61.', 'l21 :- c63.', 'l22 :- c67.',\n",
       "       'l23 :- c69.', 'l24 :- c72.', 'l24 :- c73.'], dtype='<U26')"
      ]
     },
     "execution_count": 21,
     "metadata": {},
     "output_type": "execute_result"
    }
   ],
   "source": [
    "dnpz['rule_str']"
   ]
  }
 ],
 "metadata": {
  "kernelspec": {
   "display_name": "Python 3.8.10 ('venv')",
   "language": "python",
   "name": "python3"
  },
  "language_info": {
   "codemirror_mode": {
    "name": "ipython",
    "version": 3
   },
   "file_extension": ".py",
   "mimetype": "text/x-python",
   "name": "python",
   "nbconvert_exporter": "python",
   "pygments_lexer": "ipython3",
   "version": "3.10.6"
  },
  "orig_nbformat": 4,
  "vscode": {
   "interpreter": {
    "hash": "60f4e6e0934b482f46ff6ff5ba65bfe0692fda7391c7ef62ded80b7f64a3508e"
   }
  }
 },
 "nbformat": 4,
 "nbformat_minor": 2
}
